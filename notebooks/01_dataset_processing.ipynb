{
 "cells": [
  {
   "cell_type": "markdown",
   "metadata": {},
   "source": [
    "### Dataset Preprocessing"
   ]
  },
  {
   "cell_type": "code",
   "execution_count": 14,
   "metadata": {},
   "outputs": [
    {
     "name": "stderr",
     "output_type": "stream",
     "text": [
      "100%|██████████| 5305/5305 [00:40<00:00, 130.63it/s]\n"
     ]
    },
    {
     "name": "stdout",
     "output_type": "stream",
     "text": [
      "(21216, 152)\n"
     ]
    },
    {
     "data": {
      "text/html": [
       "<div>\n",
       "<style scoped>\n",
       "    .dataframe tbody tr th:only-of-type {\n",
       "        vertical-align: middle;\n",
       "    }\n",
       "\n",
       "    .dataframe tbody tr th {\n",
       "        vertical-align: top;\n",
       "    }\n",
       "\n",
       "    .dataframe thead th {\n",
       "        text-align: right;\n",
       "    }\n",
       "</style>\n",
       "<table border=\"1\" class=\"dataframe\">\n",
       "  <thead>\n",
       "    <tr style=\"text-align: right;\">\n",
       "      <th></th>\n",
       "      <th>Unnamed: 0</th>\n",
       "      <th>representation</th>\n",
       "      <th>model</th>\n",
       "      <th>dataset</th>\n",
       "      <th>samples</th>\n",
       "      <th>qed</th>\n",
       "      <th>mw</th>\n",
       "      <th>distance_metric</th>\n",
       "      <th>param_grid</th>\n",
       "      <th>dimensionality</th>\n",
       "      <th>best_cv_score</th>\n",
       "      <th>best_params</th>\n",
       "      <th>MAE_2023</th>\n",
       "      <th>RMSE_2023</th>\n",
       "      <th>MAPE_2023</th>\n",
       "      <th>R2_2023</th>\n",
       "      <th>MAE_2024</th>\n",
       "      <th>RMSE_2024</th>\n",
       "      <th>MAPE_2024</th>\n",
       "      <th>R2_2024</th>\n",
       "      <th>MAE_2025</th>\n",
       "      <th>RMSE_2025</th>\n",
       "      <th>MAPE_2025</th>\n",
       "      <th>R2_2025</th>\n",
       "      <th>MAE_2026</th>\n",
       "      <th>RMSE_2026</th>\n",
       "      <th>MAPE_2026</th>\n",
       "      <th>R2_2026</th>\n",
       "      <th>dgms</th>\n",
       "      <th>b_0</th>\n",
       "      <th>b_1</th>\n",
       "      <th>b_0_norm</th>\n",
       "      <th>b_1_norm</th>\n",
       "      <th>ph_entr_0</th>\n",
       "      <th>ph_entr_1</th>\n",
       "      <th>lifetimes_min_0</th>\n",
       "      <th>norm_lifetimes_min_0</th>\n",
       "      <th>lifetimes_max_0</th>\n",
       "      <th>norm_lifetimes_max_0</th>\n",
       "      <th>lifetimes_mean_0</th>\n",
       "      <th>norm_lifetimes_mean_0</th>\n",
       "      <th>lifetimes_var_0</th>\n",
       "      <th>norm_lifetimes_var_0</th>\n",
       "      <th>lifetimes_sum_0</th>\n",
       "      <th>norm_lifetimes_sum_0</th>\n",
       "      <th>midlifes_min_0</th>\n",
       "      <th>norm_midlifes_min_0</th>\n",
       "      <th>midlifes_max_0</th>\n",
       "      <th>norm_midlifes_max_0</th>\n",
       "      <th>midlifes_mean_0</th>\n",
       "      <th>norm_midlifes_mean_0</th>\n",
       "      <th>midlifes_var_0</th>\n",
       "      <th>norm_midlifes_var_0</th>\n",
       "      <th>midlifes_sum_0</th>\n",
       "      <th>norm_midlifes_sum_0</th>\n",
       "      <th>lifetimes_min_1</th>\n",
       "      <th>norm_lifetimes_min_1</th>\n",
       "      <th>lifetimes_max_1</th>\n",
       "      <th>norm_lifetimes_max_1</th>\n",
       "      <th>lifetimes_mean_1</th>\n",
       "      <th>norm_lifetimes_mean_1</th>\n",
       "      <th>lifetimes_var_1</th>\n",
       "      <th>norm_lifetimes_var_1</th>\n",
       "      <th>lifetimes_sum_1</th>\n",
       "      <th>norm_lifetimes_sum_1</th>\n",
       "      <th>midlifes_min_1</th>\n",
       "      <th>norm_midlifes_min_1</th>\n",
       "      <th>midlifes_max_1</th>\n",
       "      <th>norm_midlifes_max_1</th>\n",
       "      <th>midlifes_mean_1</th>\n",
       "      <th>norm_midlifes_mean_1</th>\n",
       "      <th>midlifes_var_1</th>\n",
       "      <th>norm_midlifes_var_1</th>\n",
       "      <th>midlifes_sum_1</th>\n",
       "      <th>norm_midlifes_sum_1</th>\n",
       "      <th>ph_dim_0</th>\n",
       "      <th>ph_dim_logspace0</th>\n",
       "      <th>ph_dim_logedges0</th>\n",
       "      <th>ph_dim_1</th>\n",
       "      <th>ph_dim_logspace1</th>\n",
       "      <th>ph_dim_logedges1</th>\n",
       "      <th>dgms_train</th>\n",
       "      <th>b_0_train</th>\n",
       "      <th>b_1_train</th>\n",
       "      <th>b_0_norm_train</th>\n",
       "      <th>b_1_norm_train</th>\n",
       "      <th>ph_entr_0_train</th>\n",
       "      <th>ph_entr_1_train</th>\n",
       "      <th>lifetimes_min_0_train</th>\n",
       "      <th>norm_lifetimes_min_0_train</th>\n",
       "      <th>lifetimes_max_0_train</th>\n",
       "      <th>norm_lifetimes_max_0_train</th>\n",
       "      <th>lifetimes_mean_0_train</th>\n",
       "      <th>norm_lifetimes_mean_0_train</th>\n",
       "      <th>lifetimes_var_0_train</th>\n",
       "      <th>norm_lifetimes_var_0_train</th>\n",
       "      <th>lifetimes_sum_0_train</th>\n",
       "      <th>norm_lifetimes_sum_0_train</th>\n",
       "      <th>midlifes_min_0_train</th>\n",
       "      <th>norm_midlifes_min_0_train</th>\n",
       "      <th>midlifes_max_0_train</th>\n",
       "      <th>norm_midlifes_max_0_train</th>\n",
       "      <th>midlifes_mean_0_train</th>\n",
       "      <th>norm_midlifes_mean_0_train</th>\n",
       "      <th>midlifes_var_0_train</th>\n",
       "      <th>norm_midlifes_var_0_train</th>\n",
       "      <th>midlifes_sum_0_train</th>\n",
       "      <th>norm_midlifes_sum_0_train</th>\n",
       "      <th>lifetimes_min_1_train</th>\n",
       "      <th>norm_lifetimes_min_1_train</th>\n",
       "      <th>lifetimes_max_1_train</th>\n",
       "      <th>norm_lifetimes_max_1_train</th>\n",
       "      <th>lifetimes_mean_1_train</th>\n",
       "      <th>norm_lifetimes_mean_1_train</th>\n",
       "      <th>lifetimes_var_1_train</th>\n",
       "      <th>norm_lifetimes_var_1_train</th>\n",
       "      <th>lifetimes_sum_1_train</th>\n",
       "      <th>norm_lifetimes_sum_1_train</th>\n",
       "      <th>midlifes_min_1_train</th>\n",
       "      <th>norm_midlifes_min_1_train</th>\n",
       "      <th>midlifes_max_1_train</th>\n",
       "      <th>norm_midlifes_max_1_train</th>\n",
       "      <th>midlifes_mean_1_train</th>\n",
       "      <th>norm_midlifes_mean_1_train</th>\n",
       "      <th>midlifes_var_1_train</th>\n",
       "      <th>norm_midlifes_var_1_train</th>\n",
       "      <th>midlifes_sum_1_train</th>\n",
       "      <th>norm_midlifes_sum_1_train</th>\n",
       "      <th>ph_dim_0_train</th>\n",
       "      <th>ph_dim_logspace0_train</th>\n",
       "      <th>ph_dim_logedges0_train</th>\n",
       "      <th>ph_dim_1_train</th>\n",
       "      <th>ph_dim_logspace1_train</th>\n",
       "      <th>ph_dim_logedges1_train</th>\n",
       "      <th>sample_size</th>\n",
       "      <th>sample_dim</th>\n",
       "      <th>pca_dim</th>\n",
       "      <th>twonn_dim</th>\n",
       "      <th>rogi</th>\n",
       "      <th>rogi_xd</th>\n",
       "      <th>rmodi</th>\n",
       "      <th>sari</th>\n",
       "      <th>sample_size_train</th>\n",
       "      <th>sample_dim_train</th>\n",
       "      <th>pca_dim_train</th>\n",
       "      <th>twonn_dim_train</th>\n",
       "      <th>rogi_train</th>\n",
       "      <th>rogi_xd_train</th>\n",
       "      <th>rmodi_train</th>\n",
       "      <th>sari_train</th>\n",
       "      <th>n_fits</th>\n",
       "      <th>split</th>\n",
       "    </tr>\n",
       "  </thead>\n",
       "  <tbody>\n",
       "    <tr>\n",
       "      <th>0</th>\n",
       "      <td>0</td>\n",
       "      <td>ChemBERTa</td>\n",
       "      <td>MLPRegressor</td>\n",
       "      <td>ADRA1A</td>\n",
       "      <td>500</td>\n",
       "      <td>2.231048</td>\n",
       "      <td>420.355558</td>\n",
       "      <td>jaccard</td>\n",
       "      <td>{'hidden_layer_sizes': [(100,), (300,), (50, 5...</td>\n",
       "      <td>385</td>\n",
       "      <td>-1.872836</td>\n",
       "      <td>{'activation': 'relu', 'batch_size': 32, 'earl...</td>\n",
       "      <td>2.642796</td>\n",
       "      <td>3.170265</td>\n",
       "      <td>6.054418</td>\n",
       "      <td>-0.025954</td>\n",
       "      <td>2.600283</td>\n",
       "      <td>3.159210</td>\n",
       "      <td>5.529330</td>\n",
       "      <td>-0.018811</td>\n",
       "      <td>2.589900</td>\n",
       "      <td>3.126363</td>\n",
       "      <td>5.303836</td>\n",
       "      <td>0.002264</td>\n",
       "      <td>2.698278</td>\n",
       "      <td>3.246579</td>\n",
       "      <td>5.738079</td>\n",
       "      <td>-0.075942</td>\n",
       "      <td>[[[0.0, 0.002597402548417449]], []]</td>\n",
       "      <td>1</td>\n",
       "      <td>0</td>\n",
       "      <td>0.002</td>\n",
       "      <td>0.000</td>\n",
       "      <td>0.000000</td>\n",
       "      <td>NaN</td>\n",
       "      <td>2.597403e-03</td>\n",
       "      <td>1.000000e+00</td>\n",
       "      <td>0.002597</td>\n",
       "      <td>1.000000</td>\n",
       "      <td>0.002597</td>\n",
       "      <td>1.000000</td>\n",
       "      <td>0.000000</td>\n",
       "      <td>0.000000e+00</td>\n",
       "      <td>0.002597</td>\n",
       "      <td>1.0</td>\n",
       "      <td>1.298701e-03</td>\n",
       "      <td>1.000000e+00</td>\n",
       "      <td>0.001299</td>\n",
       "      <td>1.000000</td>\n",
       "      <td>0.001299</td>\n",
       "      <td>1.000000</td>\n",
       "      <td>0.000000</td>\n",
       "      <td>0.000000e+00</td>\n",
       "      <td>0.001299</td>\n",
       "      <td>1.0</td>\n",
       "      <td>NaN</td>\n",
       "      <td>NaN</td>\n",
       "      <td>NaN</td>\n",
       "      <td>NaN</td>\n",
       "      <td>NaN</td>\n",
       "      <td>NaN</td>\n",
       "      <td>NaN</td>\n",
       "      <td>NaN</td>\n",
       "      <td>NaN</td>\n",
       "      <td>NaN</td>\n",
       "      <td>NaN</td>\n",
       "      <td>NaN</td>\n",
       "      <td>NaN</td>\n",
       "      <td>NaN</td>\n",
       "      <td>NaN</td>\n",
       "      <td>NaN</td>\n",
       "      <td>NaN</td>\n",
       "      <td>NaN</td>\n",
       "      <td>NaN</td>\n",
       "      <td>NaN</td>\n",
       "      <td>NaN</td>\n",
       "      <td>[2.0, 2.1760912590556813, 2.3010299956639813, ...</td>\n",
       "      <td>[-2.585460737698983, -inf, -inf, -inf, -2.5854...</td>\n",
       "      <td>NaN</td>\n",
       "      <td>[2.0, 2.1760912590556813, 2.3010299956639813, ...</td>\n",
       "      <td>[-inf, -inf, -inf, -inf, -inf, -inf, -inf, -inf]</td>\n",
       "      <td>[[], []]</td>\n",
       "      <td>0</td>\n",
       "      <td>0</td>\n",
       "      <td>0.0000</td>\n",
       "      <td>0.0000</td>\n",
       "      <td>NaN</td>\n",
       "      <td>NaN</td>\n",
       "      <td>NaN</td>\n",
       "      <td>NaN</td>\n",
       "      <td>NaN</td>\n",
       "      <td>NaN</td>\n",
       "      <td>NaN</td>\n",
       "      <td>NaN</td>\n",
       "      <td>NaN</td>\n",
       "      <td>NaN</td>\n",
       "      <td>NaN</td>\n",
       "      <td>NaN</td>\n",
       "      <td>NaN</td>\n",
       "      <td>NaN</td>\n",
       "      <td>NaN</td>\n",
       "      <td>NaN</td>\n",
       "      <td>NaN</td>\n",
       "      <td>NaN</td>\n",
       "      <td>NaN</td>\n",
       "      <td>NaN</td>\n",
       "      <td>NaN</td>\n",
       "      <td>NaN</td>\n",
       "      <td>NaN</td>\n",
       "      <td>NaN</td>\n",
       "      <td>NaN</td>\n",
       "      <td>NaN</td>\n",
       "      <td>NaN</td>\n",
       "      <td>NaN</td>\n",
       "      <td>NaN</td>\n",
       "      <td>NaN</td>\n",
       "      <td>NaN</td>\n",
       "      <td>NaN</td>\n",
       "      <td>NaN</td>\n",
       "      <td>NaN</td>\n",
       "      <td>NaN</td>\n",
       "      <td>NaN</td>\n",
       "      <td>NaN</td>\n",
       "      <td>NaN</td>\n",
       "      <td>NaN</td>\n",
       "      <td>NaN</td>\n",
       "      <td>NaN</td>\n",
       "      <td>NaN</td>\n",
       "      <td>NaN</td>\n",
       "      <td>[2.0, 2.1760912590556813, 2.3010299956639813, ...</td>\n",
       "      <td>[-inf, -inf, -inf, -inf, -inf, -inf]</td>\n",
       "      <td>NaN</td>\n",
       "      <td>[2.0, 2.1760912590556813, 2.3010299956639813, ...</td>\n",
       "      <td>[-inf, -inf, -inf, -inf, -inf, -inf]</td>\n",
       "      <td>500</td>\n",
       "      <td>385</td>\n",
       "      <td>1</td>\n",
       "      <td>7.86318</td>\n",
       "      <td>0.389728</td>\n",
       "      <td>0.208027</td>\n",
       "      <td>0.000</td>\n",
       "      <td>0.000042</td>\n",
       "      <td>400</td>\n",
       "      <td>385</td>\n",
       "      <td>1.0</td>\n",
       "      <td>6.805593</td>\n",
       "      <td>NaN</td>\n",
       "      <td>0.202625</td>\n",
       "      <td>0.0000</td>\n",
       "      <td>0.000049</td>\n",
       "      <td>28</td>\n",
       "      <td>scaffold</td>\n",
       "    </tr>\n",
       "    <tr>\n",
       "      <th>1</th>\n",
       "      <td>1</td>\n",
       "      <td>ChemBERTa</td>\n",
       "      <td>MLPRegressor</td>\n",
       "      <td>ADRA1A</td>\n",
       "      <td>500</td>\n",
       "      <td>2.231048</td>\n",
       "      <td>420.355558</td>\n",
       "      <td>euclidean</td>\n",
       "      <td>{'hidden_layer_sizes': [(100,), (300,), (50, 5...</td>\n",
       "      <td>385</td>\n",
       "      <td>-1.872836</td>\n",
       "      <td>{'activation': 'relu', 'batch_size': 32, 'earl...</td>\n",
       "      <td>2.642796</td>\n",
       "      <td>3.170265</td>\n",
       "      <td>6.054418</td>\n",
       "      <td>-0.025954</td>\n",
       "      <td>2.600283</td>\n",
       "      <td>3.159210</td>\n",
       "      <td>5.529330</td>\n",
       "      <td>-0.018811</td>\n",
       "      <td>2.589900</td>\n",
       "      <td>3.126363</td>\n",
       "      <td>5.303836</td>\n",
       "      <td>0.002264</td>\n",
       "      <td>2.698278</td>\n",
       "      <td>3.246579</td>\n",
       "      <td>5.738079</td>\n",
       "      <td>-0.075942</td>\n",
       "      <td>[[[0.0, 1.0], [0.0, 1.7404422760009766], [0.0,...</td>\n",
       "      <td>499</td>\n",
       "      <td>56</td>\n",
       "      <td>0.998</td>\n",
       "      <td>0.112</td>\n",
       "      <td>8.939058</td>\n",
       "      <td>5.338523</td>\n",
       "      <td>1.000000e+00</td>\n",
       "      <td>4.770884e-04</td>\n",
       "      <td>8.385021</td>\n",
       "      <td>0.004000</td>\n",
       "      <td>4.200496</td>\n",
       "      <td>0.002004</td>\n",
       "      <td>0.574048</td>\n",
       "      <td>1.306611e-07</td>\n",
       "      <td>2096.047551</td>\n",
       "      <td>1.0</td>\n",
       "      <td>5.000000e-01</td>\n",
       "      <td>4.770884e-04</td>\n",
       "      <td>4.192511</td>\n",
       "      <td>0.004000</td>\n",
       "      <td>2.100248</td>\n",
       "      <td>0.002004</td>\n",
       "      <td>0.143512</td>\n",
       "      <td>1.306611e-07</td>\n",
       "      <td>1048.023776</td>\n",
       "      <td>1.0</td>\n",
       "      <td>2.527237e-03</td>\n",
       "      <td>0.000207</td>\n",
       "      <td>0.844161</td>\n",
       "      <td>0.068991</td>\n",
       "      <td>0.218497</td>\n",
       "      <td>0.017857</td>\n",
       "      <td>3.327042e-02</td>\n",
       "      <td>0.000222</td>\n",
       "      <td>12.235813</td>\n",
       "      <td>1.0</td>\n",
       "      <td>4.196888</td>\n",
       "      <td>0.014611</td>\n",
       "      <td>6.787226</td>\n",
       "      <td>0.023629</td>\n",
       "      <td>5.129404</td>\n",
       "      <td>0.017857</td>\n",
       "      <td>0.292385</td>\n",
       "      <td>3.543604e-06</td>\n",
       "      <td>287.246642</td>\n",
       "      <td>1.0</td>\n",
       "      <td>3.001077</td>\n",
       "      <td>[2.0, 2.1760912590556813, 2.3010299956639813, ...</td>\n",
       "      <td>[2.8539098243378005, 2.941284706861319, 3.0115...</td>\n",
       "      <td>NaN</td>\n",
       "      <td>[2.0, 2.1760912590556813, 2.3010299956639813, ...</td>\n",
       "      <td>[-inf, -0.7987698387275062, -0.003217816898287...</td>\n",
       "      <td>[[[0.0, 1.0], [0.0, 1.7404422760009766], [0.0,...</td>\n",
       "      <td>399</td>\n",
       "      <td>31</td>\n",
       "      <td>0.9975</td>\n",
       "      <td>0.0775</td>\n",
       "      <td>8.612998</td>\n",
       "      <td>4.379367</td>\n",
       "      <td>1.000000e+00</td>\n",
       "      <td>5.679197e-04</td>\n",
       "      <td>8.385021</td>\n",
       "      <td>0.004762</td>\n",
       "      <td>4.413063</td>\n",
       "      <td>0.002506</td>\n",
       "      <td>0.726968</td>\n",
       "      <td>2.344710e-07</td>\n",
       "      <td>1760.812333</td>\n",
       "      <td>1.0</td>\n",
       "      <td>5.000000e-01</td>\n",
       "      <td>5.679197e-04</td>\n",
       "      <td>4.192511</td>\n",
       "      <td>0.004762</td>\n",
       "      <td>2.206532</td>\n",
       "      <td>0.002506</td>\n",
       "      <td>0.181742</td>\n",
       "      <td>2.344710e-07</td>\n",
       "      <td>880.406167</td>\n",
       "      <td>1.0</td>\n",
       "      <td>4.302502e-03</td>\n",
       "      <td>6.508621e-04</td>\n",
       "      <td>0.812698</td>\n",
       "      <td>0.122941</td>\n",
       "      <td>0.213241</td>\n",
       "      <td>0.032258</td>\n",
       "      <td>4.203790e-02</td>\n",
       "      <td>0.000962</td>\n",
       "      <td>6.610466</td>\n",
       "      <td>1.0</td>\n",
       "      <td>4.478122</td>\n",
       "      <td>0.026566</td>\n",
       "      <td>7.396824</td>\n",
       "      <td>0.043881</td>\n",
       "      <td>5.437630</td>\n",
       "      <td>0.032258</td>\n",
       "      <td>0.438489</td>\n",
       "      <td>1.543178e-05</td>\n",
       "      <td>168.566545</td>\n",
       "      <td>1.0</td>\n",
       "      <td>2.770580</td>\n",
       "      <td>[2.0, 2.1760912590556813, 2.3010299956639813, ...</td>\n",
       "      <td>[2.854443537882453, 2.9454672214498236, 3.0096...</td>\n",
       "      <td>-0.631975</td>\n",
       "      <td>[2.0, 2.1760912590556813, 2.3010299956639813, ...</td>\n",
       "      <td>[-0.660568189349607, -0.17980088145810064, -0....</td>\n",
       "      <td>500</td>\n",
       "      <td>385</td>\n",
       "      <td>1</td>\n",
       "      <td>7.86318</td>\n",
       "      <td>0.376890</td>\n",
       "      <td>0.280613</td>\n",
       "      <td>0.350</td>\n",
       "      <td>0.000000</td>\n",
       "      <td>400</td>\n",
       "      <td>385</td>\n",
       "      <td>1.0</td>\n",
       "      <td>6.805593</td>\n",
       "      <td>0.370457</td>\n",
       "      <td>0.275846</td>\n",
       "      <td>0.3550</td>\n",
       "      <td>0.000000</td>\n",
       "      <td>28</td>\n",
       "      <td>scaffold</td>\n",
       "    </tr>\n",
       "    <tr>\n",
       "      <th>2</th>\n",
       "      <td>2</td>\n",
       "      <td>ChemBERTa</td>\n",
       "      <td>MLPRegressor</td>\n",
       "      <td>ADRA1A</td>\n",
       "      <td>500</td>\n",
       "      <td>2.231048</td>\n",
       "      <td>420.355558</td>\n",
       "      <td>manhattan</td>\n",
       "      <td>{'hidden_layer_sizes': [(100,), (300,), (50, 5...</td>\n",
       "      <td>385</td>\n",
       "      <td>-1.872836</td>\n",
       "      <td>{'activation': 'relu', 'batch_size': 32, 'earl...</td>\n",
       "      <td>2.642796</td>\n",
       "      <td>3.170265</td>\n",
       "      <td>6.054418</td>\n",
       "      <td>-0.025954</td>\n",
       "      <td>2.600283</td>\n",
       "      <td>3.159210</td>\n",
       "      <td>5.529330</td>\n",
       "      <td>-0.018811</td>\n",
       "      <td>2.589900</td>\n",
       "      <td>3.126363</td>\n",
       "      <td>5.303836</td>\n",
       "      <td>0.002264</td>\n",
       "      <td>2.698278</td>\n",
       "      <td>3.246579</td>\n",
       "      <td>5.738079</td>\n",
       "      <td>-0.075942</td>\n",
       "      <td>[[[0.0, 1.0], [0.0, 2.0], [0.0, 2.0], [0.0, 3....</td>\n",
       "      <td>499</td>\n",
       "      <td>290</td>\n",
       "      <td>0.998</td>\n",
       "      <td>0.580</td>\n",
       "      <td>8.900873</td>\n",
       "      <td>7.488127</td>\n",
       "      <td>1.000000e+00</td>\n",
       "      <td>3.993036e-05</td>\n",
       "      <td>117.514297</td>\n",
       "      <td>0.004692</td>\n",
       "      <td>50.187571</td>\n",
       "      <td>0.002004</td>\n",
       "      <td>185.972325</td>\n",
       "      <td>2.965206e-07</td>\n",
       "      <td>25043.597891</td>\n",
       "      <td>1.0</td>\n",
       "      <td>5.000000e-01</td>\n",
       "      <td>3.993036e-05</td>\n",
       "      <td>58.757149</td>\n",
       "      <td>0.004692</td>\n",
       "      <td>25.093785</td>\n",
       "      <td>0.002004</td>\n",
       "      <td>46.493081</td>\n",
       "      <td>2.965206e-07</td>\n",
       "      <td>12521.798945</td>\n",
       "      <td>1.0</td>\n",
       "      <td>2.868652e-03</td>\n",
       "      <td>0.000002</td>\n",
       "      <td>33.901653</td>\n",
       "      <td>0.023340</td>\n",
       "      <td>5.008689</td>\n",
       "      <td>0.003448</td>\n",
       "      <td>3.024374e+01</td>\n",
       "      <td>0.000014</td>\n",
       "      <td>1452.519787</td>\n",
       "      <td>1.0</td>\n",
       "      <td>48.185751</td>\n",
       "      <td>0.002542</td>\n",
       "      <td>130.778008</td>\n",
       "      <td>0.006900</td>\n",
       "      <td>65.360602</td>\n",
       "      <td>0.003448</td>\n",
       "      <td>146.406628</td>\n",
       "      <td>4.075047e-07</td>\n",
       "      <td>18954.574636</td>\n",
       "      <td>1.0</td>\n",
       "      <td>6.601958</td>\n",
       "      <td>[2.0, 2.1760912590556813, 2.3010299956639813, ...</td>\n",
       "      <td>[3.807371746688479, 3.9513817130565716, 4.0458...</td>\n",
       "      <td>-2.844950</td>\n",
       "      <td>[2.0, 2.1760912590556813, 2.3010299956639813, ...</td>\n",
       "      <td>[2.2398452842861496, 2.390922998194138, 2.6953...</td>\n",
       "      <td>[[[0.0, 1.0], [0.0, 2.0], [0.0, 3.0], [0.0, 6....</td>\n",
       "      <td>399</td>\n",
       "      <td>223</td>\n",
       "      <td>0.9975</td>\n",
       "      <td>0.5575</td>\n",
       "      <td>8.586323</td>\n",
       "      <td>7.111853</td>\n",
       "      <td>1.000000e+00</td>\n",
       "      <td>4.803072e-05</td>\n",
       "      <td>117.514297</td>\n",
       "      <td>0.005644</td>\n",
       "      <td>52.180474</td>\n",
       "      <td>0.002506</td>\n",
       "      <td>180.825104</td>\n",
       "      <td>4.171545e-07</td>\n",
       "      <td>20820.009161</td>\n",
       "      <td>1.0</td>\n",
       "      <td>5.000000e-01</td>\n",
       "      <td>4.803072e-05</td>\n",
       "      <td>58.757149</td>\n",
       "      <td>0.005644</td>\n",
       "      <td>26.090237</td>\n",
       "      <td>0.002506</td>\n",
       "      <td>45.206276</td>\n",
       "      <td>4.171545e-07</td>\n",
       "      <td>10410.004580</td>\n",
       "      <td>1.0</td>\n",
       "      <td>1.718140e-02</td>\n",
       "      <td>1.453118e-05</td>\n",
       "      <td>36.186306</td>\n",
       "      <td>0.030605</td>\n",
       "      <td>5.302158</td>\n",
       "      <td>0.004484</td>\n",
       "      <td>3.406561e+01</td>\n",
       "      <td>0.000024</td>\n",
       "      <td>1182.381134</td>\n",
       "      <td>1.0</td>\n",
       "      <td>48.672585</td>\n",
       "      <td>0.003212</td>\n",
       "      <td>130.778008</td>\n",
       "      <td>0.008630</td>\n",
       "      <td>67.953113</td>\n",
       "      <td>0.004484</td>\n",
       "      <td>173.501614</td>\n",
       "      <td>7.555706e-07</td>\n",
       "      <td>15153.544216</td>\n",
       "      <td>1.0</td>\n",
       "      <td>8.379183</td>\n",
       "      <td>[2.0, 2.1760912590556813, 2.3010299956639813, ...</td>\n",
       "      <td>[3.7878905175739708, 3.9564371769818383, 4.049...</td>\n",
       "      <td>-1.827742</td>\n",
       "      <td>[2.0, 2.1760912590556813, 2.3010299956639813, ...</td>\n",
       "      <td>[2.1793969978150214, 2.4070955674617953, 2.548...</td>\n",
       "      <td>500</td>\n",
       "      <td>385</td>\n",
       "      <td>1</td>\n",
       "      <td>7.86318</td>\n",
       "      <td>0.319336</td>\n",
       "      <td>0.258173</td>\n",
       "      <td>0.456</td>\n",
       "      <td>0.000000</td>\n",
       "      <td>400</td>\n",
       "      <td>385</td>\n",
       "      <td>1.0</td>\n",
       "      <td>6.805593</td>\n",
       "      <td>0.312693</td>\n",
       "      <td>0.253645</td>\n",
       "      <td>0.4625</td>\n",
       "      <td>0.000000</td>\n",
       "      <td>28</td>\n",
       "      <td>scaffold</td>\n",
       "    </tr>\n",
       "    <tr>\n",
       "      <th>3</th>\n",
       "      <td>3</td>\n",
       "      <td>ChemBERTa</td>\n",
       "      <td>MLPRegressor</td>\n",
       "      <td>ADRA1A</td>\n",
       "      <td>500</td>\n",
       "      <td>2.231048</td>\n",
       "      <td>420.355558</td>\n",
       "      <td>cosine</td>\n",
       "      <td>{'hidden_layer_sizes': [(100,), (300,), (50, 5...</td>\n",
       "      <td>385</td>\n",
       "      <td>-1.872836</td>\n",
       "      <td>{'activation': 'relu', 'batch_size': 32, 'earl...</td>\n",
       "      <td>2.642796</td>\n",
       "      <td>3.170265</td>\n",
       "      <td>6.054418</td>\n",
       "      <td>-0.025954</td>\n",
       "      <td>2.600283</td>\n",
       "      <td>3.159210</td>\n",
       "      <td>5.529330</td>\n",
       "      <td>-0.018811</td>\n",
       "      <td>2.589900</td>\n",
       "      <td>3.126363</td>\n",
       "      <td>5.303836</td>\n",
       "      <td>0.002264</td>\n",
       "      <td>2.698278</td>\n",
       "      <td>3.246579</td>\n",
       "      <td>5.738079</td>\n",
       "      <td>-0.075942</td>\n",
       "      <td>[[[0.0, 3.4943012927612926e-09], [0.0, 1.07449...</td>\n",
       "      <td>499</td>\n",
       "      <td>198</td>\n",
       "      <td>0.998</td>\n",
       "      <td>0.396</td>\n",
       "      <td>5.120922</td>\n",
       "      <td>3.859431</td>\n",
       "      <td>3.494301e-09</td>\n",
       "      <td>2.656301e-09</td>\n",
       "      <td>0.105432</td>\n",
       "      <td>0.080147</td>\n",
       "      <td>0.002636</td>\n",
       "      <td>0.002004</td>\n",
       "      <td>0.000152</td>\n",
       "      <td>8.785757e-05</td>\n",
       "      <td>1.315477</td>\n",
       "      <td>1.0</td>\n",
       "      <td>1.747151e-09</td>\n",
       "      <td>2.656301e-09</td>\n",
       "      <td>0.052716</td>\n",
       "      <td>0.080147</td>\n",
       "      <td>0.001318</td>\n",
       "      <td>0.002004</td>\n",
       "      <td>0.000038</td>\n",
       "      <td>8.785757e-05</td>\n",
       "      <td>0.657738</td>\n",
       "      <td>1.0</td>\n",
       "      <td>5.587754e-08</td>\n",
       "      <td>0.000005</td>\n",
       "      <td>0.004935</td>\n",
       "      <td>0.409532</td>\n",
       "      <td>0.000061</td>\n",
       "      <td>0.005051</td>\n",
       "      <td>1.355047e-07</td>\n",
       "      <td>0.000933</td>\n",
       "      <td>0.012051</td>\n",
       "      <td>1.0</td>\n",
       "      <td>0.000015</td>\n",
       "      <td>0.000053</td>\n",
       "      <td>0.076615</td>\n",
       "      <td>0.266913</td>\n",
       "      <td>0.001450</td>\n",
       "      <td>0.005051</td>\n",
       "      <td>0.000067</td>\n",
       "      <td>8.088442e-04</td>\n",
       "      <td>0.287043</td>\n",
       "      <td>1.0</td>\n",
       "      <td>3.089001</td>\n",
       "      <td>[2.0, 2.1760912590556813, 2.3010299956639813, ...</td>\n",
       "      <td>[-0.24722000564139476, -0.23919554552698627, -...</td>\n",
       "      <td>-0.854038</td>\n",
       "      <td>[2.0, 2.1760912590556813, 2.3010299956639813, ...</td>\n",
       "      <td>[-3.3926713868770513, -2.812892822968577, -2.5...</td>\n",
       "      <td>[[[0.0, 1.0744978240495584e-08], [0.0, 3.87157...</td>\n",
       "      <td>399</td>\n",
       "      <td>150</td>\n",
       "      <td>0.9975</td>\n",
       "      <td>0.3750</td>\n",
       "      <td>4.808135</td>\n",
       "      <td>4.661190</td>\n",
       "      <td>1.074498e-08</td>\n",
       "      <td>1.020079e-08</td>\n",
       "      <td>0.124370</td>\n",
       "      <td>0.118071</td>\n",
       "      <td>0.002640</td>\n",
       "      <td>0.002506</td>\n",
       "      <td>0.000156</td>\n",
       "      <td>1.410219e-04</td>\n",
       "      <td>1.053348</td>\n",
       "      <td>1.0</td>\n",
       "      <td>5.372489e-09</td>\n",
       "      <td>1.020079e-08</td>\n",
       "      <td>0.062185</td>\n",
       "      <td>0.118071</td>\n",
       "      <td>0.001320</td>\n",
       "      <td>0.002506</td>\n",
       "      <td>0.000039</td>\n",
       "      <td>1.410219e-04</td>\n",
       "      <td>0.526674</td>\n",
       "      <td>1.0</td>\n",
       "      <td>3.434252e-09</td>\n",
       "      <td>8.709012e-07</td>\n",
       "      <td>0.001039</td>\n",
       "      <td>0.263542</td>\n",
       "      <td>0.000026</td>\n",
       "      <td>0.006667</td>\n",
       "      <td>9.788530e-09</td>\n",
       "      <td>0.000629</td>\n",
       "      <td>0.003943</td>\n",
       "      <td>1.0</td>\n",
       "      <td>0.000015</td>\n",
       "      <td>0.000106</td>\n",
       "      <td>0.076615</td>\n",
       "      <td>0.534266</td>\n",
       "      <td>0.000956</td>\n",
       "      <td>0.006667</td>\n",
       "      <td>0.000044</td>\n",
       "      <td>2.135853e-03</td>\n",
       "      <td>0.143403</td>\n",
       "      <td>1.0</td>\n",
       "      <td>2.634079</td>\n",
       "      <td>[2.0, 2.1760912590556813, 2.3010299956639813, ...</td>\n",
       "      <td>[-0.33591224435942696, -0.26715470875530456, -...</td>\n",
       "      <td>-0.588383</td>\n",
       "      <td>[2.0, 2.1760912590556813, 2.3010299956639813, ...</td>\n",
       "      <td>[-3.8169290979898483, -3.068827654682512, -3.0...</td>\n",
       "      <td>500</td>\n",
       "      <td>385</td>\n",
       "      <td>1</td>\n",
       "      <td>7.86318</td>\n",
       "      <td>0.381142</td>\n",
       "      <td>0.265305</td>\n",
       "      <td>0.488</td>\n",
       "      <td>0.000053</td>\n",
       "      <td>400</td>\n",
       "      <td>385</td>\n",
       "      <td>1.0</td>\n",
       "      <td>6.805593</td>\n",
       "      <td>0.388209</td>\n",
       "      <td>0.269303</td>\n",
       "      <td>0.4950</td>\n",
       "      <td>0.000059</td>\n",
       "      <td>28</td>\n",
       "      <td>scaffold</td>\n",
       "    </tr>\n",
       "    <tr>\n",
       "      <th>4</th>\n",
       "      <td>0</td>\n",
       "      <td>ChemBERTa</td>\n",
       "      <td>RandomForestRegressor</td>\n",
       "      <td>ADRA1A</td>\n",
       "      <td>500</td>\n",
       "      <td>2.231048</td>\n",
       "      <td>420.355558</td>\n",
       "      <td>jaccard</td>\n",
       "      <td>{'n_estimators': [100, 200, 300], 'max_depth':...</td>\n",
       "      <td>385</td>\n",
       "      <td>-1.648438</td>\n",
       "      <td>{'max_depth': 10, 'min_samples_leaf': 1, 'n_es...</td>\n",
       "      <td>2.681732</td>\n",
       "      <td>3.242010</td>\n",
       "      <td>4.995926</td>\n",
       "      <td>-0.072915</td>\n",
       "      <td>2.682303</td>\n",
       "      <td>3.248398</td>\n",
       "      <td>4.700747</td>\n",
       "      <td>-0.077148</td>\n",
       "      <td>2.672855</td>\n",
       "      <td>3.217810</td>\n",
       "      <td>4.812588</td>\n",
       "      <td>-0.056958</td>\n",
       "      <td>2.712223</td>\n",
       "      <td>3.277069</td>\n",
       "      <td>4.711376</td>\n",
       "      <td>-0.096246</td>\n",
       "      <td>[[[0.0, 0.002597402548417449]], []]</td>\n",
       "      <td>1</td>\n",
       "      <td>0</td>\n",
       "      <td>0.002</td>\n",
       "      <td>0.000</td>\n",
       "      <td>0.000000</td>\n",
       "      <td>NaN</td>\n",
       "      <td>2.597403e-03</td>\n",
       "      <td>1.000000e+00</td>\n",
       "      <td>0.002597</td>\n",
       "      <td>1.000000</td>\n",
       "      <td>0.002597</td>\n",
       "      <td>1.000000</td>\n",
       "      <td>0.000000</td>\n",
       "      <td>0.000000e+00</td>\n",
       "      <td>0.002597</td>\n",
       "      <td>1.0</td>\n",
       "      <td>1.298701e-03</td>\n",
       "      <td>1.000000e+00</td>\n",
       "      <td>0.001299</td>\n",
       "      <td>1.000000</td>\n",
       "      <td>0.001299</td>\n",
       "      <td>1.000000</td>\n",
       "      <td>0.000000</td>\n",
       "      <td>0.000000e+00</td>\n",
       "      <td>0.001299</td>\n",
       "      <td>1.0</td>\n",
       "      <td>NaN</td>\n",
       "      <td>NaN</td>\n",
       "      <td>NaN</td>\n",
       "      <td>NaN</td>\n",
       "      <td>NaN</td>\n",
       "      <td>NaN</td>\n",
       "      <td>NaN</td>\n",
       "      <td>NaN</td>\n",
       "      <td>NaN</td>\n",
       "      <td>NaN</td>\n",
       "      <td>NaN</td>\n",
       "      <td>NaN</td>\n",
       "      <td>NaN</td>\n",
       "      <td>NaN</td>\n",
       "      <td>NaN</td>\n",
       "      <td>NaN</td>\n",
       "      <td>NaN</td>\n",
       "      <td>NaN</td>\n",
       "      <td>NaN</td>\n",
       "      <td>NaN</td>\n",
       "      <td>NaN</td>\n",
       "      <td>[2.0, 2.1760912590556813, 2.3010299956639813, ...</td>\n",
       "      <td>[-2.585460737698983, -inf, -inf, -inf, -2.5854...</td>\n",
       "      <td>NaN</td>\n",
       "      <td>[2.0, 2.1760912590556813, 2.3010299956639813, ...</td>\n",
       "      <td>[-inf, -inf, -inf, -inf, -inf, -inf, -inf, -inf]</td>\n",
       "      <td>[[], []]</td>\n",
       "      <td>0</td>\n",
       "      <td>0</td>\n",
       "      <td>0.0000</td>\n",
       "      <td>0.0000</td>\n",
       "      <td>NaN</td>\n",
       "      <td>NaN</td>\n",
       "      <td>NaN</td>\n",
       "      <td>NaN</td>\n",
       "      <td>NaN</td>\n",
       "      <td>NaN</td>\n",
       "      <td>NaN</td>\n",
       "      <td>NaN</td>\n",
       "      <td>NaN</td>\n",
       "      <td>NaN</td>\n",
       "      <td>NaN</td>\n",
       "      <td>NaN</td>\n",
       "      <td>NaN</td>\n",
       "      <td>NaN</td>\n",
       "      <td>NaN</td>\n",
       "      <td>NaN</td>\n",
       "      <td>NaN</td>\n",
       "      <td>NaN</td>\n",
       "      <td>NaN</td>\n",
       "      <td>NaN</td>\n",
       "      <td>NaN</td>\n",
       "      <td>NaN</td>\n",
       "      <td>NaN</td>\n",
       "      <td>NaN</td>\n",
       "      <td>NaN</td>\n",
       "      <td>NaN</td>\n",
       "      <td>NaN</td>\n",
       "      <td>NaN</td>\n",
       "      <td>NaN</td>\n",
       "      <td>NaN</td>\n",
       "      <td>NaN</td>\n",
       "      <td>NaN</td>\n",
       "      <td>NaN</td>\n",
       "      <td>NaN</td>\n",
       "      <td>NaN</td>\n",
       "      <td>NaN</td>\n",
       "      <td>NaN</td>\n",
       "      <td>NaN</td>\n",
       "      <td>NaN</td>\n",
       "      <td>NaN</td>\n",
       "      <td>NaN</td>\n",
       "      <td>NaN</td>\n",
       "      <td>NaN</td>\n",
       "      <td>[2.0, 2.1760912590556813, 2.3010299956639813, ...</td>\n",
       "      <td>[-inf, -inf, -inf, -inf, -inf, -inf]</td>\n",
       "      <td>NaN</td>\n",
       "      <td>[2.0, 2.1760912590556813, 2.3010299956639813, ...</td>\n",
       "      <td>[-inf, -inf, -inf, -inf, -inf, -inf]</td>\n",
       "      <td>500</td>\n",
       "      <td>385</td>\n",
       "      <td>1</td>\n",
       "      <td>7.86318</td>\n",
       "      <td>0.389728</td>\n",
       "      <td>0.208027</td>\n",
       "      <td>0.000</td>\n",
       "      <td>0.000042</td>\n",
       "      <td>400</td>\n",
       "      <td>385</td>\n",
       "      <td>1.0</td>\n",
       "      <td>6.805593</td>\n",
       "      <td>NaN</td>\n",
       "      <td>0.202625</td>\n",
       "      <td>0.0000</td>\n",
       "      <td>0.000049</td>\n",
       "      <td>40</td>\n",
       "      <td>scaffold</td>\n",
       "    </tr>\n",
       "  </tbody>\n",
       "</table>\n",
       "</div>"
      ],
      "text/plain": [
       "   Unnamed: 0 representation                  model dataset  samples   \n",
       "0           0      ChemBERTa           MLPRegressor  ADRA1A      500  \\\n",
       "1           1      ChemBERTa           MLPRegressor  ADRA1A      500   \n",
       "2           2      ChemBERTa           MLPRegressor  ADRA1A      500   \n",
       "3           3      ChemBERTa           MLPRegressor  ADRA1A      500   \n",
       "4           0      ChemBERTa  RandomForestRegressor  ADRA1A      500   \n",
       "\n",
       "        qed          mw distance_metric   \n",
       "0  2.231048  420.355558         jaccard  \\\n",
       "1  2.231048  420.355558       euclidean   \n",
       "2  2.231048  420.355558       manhattan   \n",
       "3  2.231048  420.355558          cosine   \n",
       "4  2.231048  420.355558         jaccard   \n",
       "\n",
       "                                          param_grid  dimensionality   \n",
       "0  {'hidden_layer_sizes': [(100,), (300,), (50, 5...             385  \\\n",
       "1  {'hidden_layer_sizes': [(100,), (300,), (50, 5...             385   \n",
       "2  {'hidden_layer_sizes': [(100,), (300,), (50, 5...             385   \n",
       "3  {'hidden_layer_sizes': [(100,), (300,), (50, 5...             385   \n",
       "4  {'n_estimators': [100, 200, 300], 'max_depth':...             385   \n",
       "\n",
       "   best_cv_score                                        best_params  MAE_2023   \n",
       "0      -1.872836  {'activation': 'relu', 'batch_size': 32, 'earl...  2.642796  \\\n",
       "1      -1.872836  {'activation': 'relu', 'batch_size': 32, 'earl...  2.642796   \n",
       "2      -1.872836  {'activation': 'relu', 'batch_size': 32, 'earl...  2.642796   \n",
       "3      -1.872836  {'activation': 'relu', 'batch_size': 32, 'earl...  2.642796   \n",
       "4      -1.648438  {'max_depth': 10, 'min_samples_leaf': 1, 'n_es...  2.681732   \n",
       "\n",
       "   RMSE_2023  MAPE_2023   R2_2023  MAE_2024  RMSE_2024  MAPE_2024   R2_2024   \n",
       "0   3.170265   6.054418 -0.025954  2.600283   3.159210   5.529330 -0.018811  \\\n",
       "1   3.170265   6.054418 -0.025954  2.600283   3.159210   5.529330 -0.018811   \n",
       "2   3.170265   6.054418 -0.025954  2.600283   3.159210   5.529330 -0.018811   \n",
       "3   3.170265   6.054418 -0.025954  2.600283   3.159210   5.529330 -0.018811   \n",
       "4   3.242010   4.995926 -0.072915  2.682303   3.248398   4.700747 -0.077148   \n",
       "\n",
       "   MAE_2025  RMSE_2025  MAPE_2025   R2_2025  MAE_2026  RMSE_2026  MAPE_2026   \n",
       "0  2.589900   3.126363   5.303836  0.002264  2.698278   3.246579   5.738079  \\\n",
       "1  2.589900   3.126363   5.303836  0.002264  2.698278   3.246579   5.738079   \n",
       "2  2.589900   3.126363   5.303836  0.002264  2.698278   3.246579   5.738079   \n",
       "3  2.589900   3.126363   5.303836  0.002264  2.698278   3.246579   5.738079   \n",
       "4  2.672855   3.217810   4.812588 -0.056958  2.712223   3.277069   4.711376   \n",
       "\n",
       "    R2_2026                                               dgms  b_0  b_1   \n",
       "0 -0.075942                [[[0.0, 0.002597402548417449]], []]    1    0  \\\n",
       "1 -0.075942  [[[0.0, 1.0], [0.0, 1.7404422760009766], [0.0,...  499   56   \n",
       "2 -0.075942  [[[0.0, 1.0], [0.0, 2.0], [0.0, 2.0], [0.0, 3....  499  290   \n",
       "3 -0.075942  [[[0.0, 3.4943012927612926e-09], [0.0, 1.07449...  499  198   \n",
       "4 -0.096246                [[[0.0, 0.002597402548417449]], []]    1    0   \n",
       "\n",
       "   b_0_norm  b_1_norm  ph_entr_0  ph_entr_1  lifetimes_min_0   \n",
       "0     0.002     0.000   0.000000        NaN     2.597403e-03  \\\n",
       "1     0.998     0.112   8.939058   5.338523     1.000000e+00   \n",
       "2     0.998     0.580   8.900873   7.488127     1.000000e+00   \n",
       "3     0.998     0.396   5.120922   3.859431     3.494301e-09   \n",
       "4     0.002     0.000   0.000000        NaN     2.597403e-03   \n",
       "\n",
       "   norm_lifetimes_min_0  lifetimes_max_0  norm_lifetimes_max_0   \n",
       "0          1.000000e+00         0.002597              1.000000  \\\n",
       "1          4.770884e-04         8.385021              0.004000   \n",
       "2          3.993036e-05       117.514297              0.004692   \n",
       "3          2.656301e-09         0.105432              0.080147   \n",
       "4          1.000000e+00         0.002597              1.000000   \n",
       "\n",
       "   lifetimes_mean_0  norm_lifetimes_mean_0  lifetimes_var_0   \n",
       "0          0.002597               1.000000         0.000000  \\\n",
       "1          4.200496               0.002004         0.574048   \n",
       "2         50.187571               0.002004       185.972325   \n",
       "3          0.002636               0.002004         0.000152   \n",
       "4          0.002597               1.000000         0.000000   \n",
       "\n",
       "   norm_lifetimes_var_0  lifetimes_sum_0  norm_lifetimes_sum_0   \n",
       "0          0.000000e+00         0.002597                   1.0  \\\n",
       "1          1.306611e-07      2096.047551                   1.0   \n",
       "2          2.965206e-07     25043.597891                   1.0   \n",
       "3          8.785757e-05         1.315477                   1.0   \n",
       "4          0.000000e+00         0.002597                   1.0   \n",
       "\n",
       "   midlifes_min_0  norm_midlifes_min_0  midlifes_max_0  norm_midlifes_max_0   \n",
       "0    1.298701e-03         1.000000e+00        0.001299             1.000000  \\\n",
       "1    5.000000e-01         4.770884e-04        4.192511             0.004000   \n",
       "2    5.000000e-01         3.993036e-05       58.757149             0.004692   \n",
       "3    1.747151e-09         2.656301e-09        0.052716             0.080147   \n",
       "4    1.298701e-03         1.000000e+00        0.001299             1.000000   \n",
       "\n",
       "   midlifes_mean_0  norm_midlifes_mean_0  midlifes_var_0  norm_midlifes_var_0   \n",
       "0         0.001299              1.000000        0.000000         0.000000e+00  \\\n",
       "1         2.100248              0.002004        0.143512         1.306611e-07   \n",
       "2        25.093785              0.002004       46.493081         2.965206e-07   \n",
       "3         0.001318              0.002004        0.000038         8.785757e-05   \n",
       "4         0.001299              1.000000        0.000000         0.000000e+00   \n",
       "\n",
       "   midlifes_sum_0  norm_midlifes_sum_0  lifetimes_min_1  norm_lifetimes_min_1   \n",
       "0        0.001299                  1.0              NaN                   NaN  \\\n",
       "1     1048.023776                  1.0     2.527237e-03              0.000207   \n",
       "2    12521.798945                  1.0     2.868652e-03              0.000002   \n",
       "3        0.657738                  1.0     5.587754e-08              0.000005   \n",
       "4        0.001299                  1.0              NaN                   NaN   \n",
       "\n",
       "   lifetimes_max_1  norm_lifetimes_max_1  lifetimes_mean_1   \n",
       "0              NaN                   NaN               NaN  \\\n",
       "1         0.844161              0.068991          0.218497   \n",
       "2        33.901653              0.023340          5.008689   \n",
       "3         0.004935              0.409532          0.000061   \n",
       "4              NaN                   NaN               NaN   \n",
       "\n",
       "   norm_lifetimes_mean_1  lifetimes_var_1  norm_lifetimes_var_1   \n",
       "0                    NaN              NaN                   NaN  \\\n",
       "1               0.017857     3.327042e-02              0.000222   \n",
       "2               0.003448     3.024374e+01              0.000014   \n",
       "3               0.005051     1.355047e-07              0.000933   \n",
       "4                    NaN              NaN                   NaN   \n",
       "\n",
       "   lifetimes_sum_1  norm_lifetimes_sum_1  midlifes_min_1  norm_midlifes_min_1   \n",
       "0              NaN                   NaN             NaN                  NaN  \\\n",
       "1        12.235813                   1.0        4.196888             0.014611   \n",
       "2      1452.519787                   1.0       48.185751             0.002542   \n",
       "3         0.012051                   1.0        0.000015             0.000053   \n",
       "4              NaN                   NaN             NaN                  NaN   \n",
       "\n",
       "   midlifes_max_1  norm_midlifes_max_1  midlifes_mean_1  norm_midlifes_mean_1   \n",
       "0             NaN                  NaN              NaN                   NaN  \\\n",
       "1        6.787226             0.023629         5.129404              0.017857   \n",
       "2      130.778008             0.006900        65.360602              0.003448   \n",
       "3        0.076615             0.266913         0.001450              0.005051   \n",
       "4             NaN                  NaN              NaN                   NaN   \n",
       "\n",
       "   midlifes_var_1  norm_midlifes_var_1  midlifes_sum_1  norm_midlifes_sum_1   \n",
       "0             NaN                  NaN             NaN                  NaN  \\\n",
       "1        0.292385         3.543604e-06      287.246642                  1.0   \n",
       "2      146.406628         4.075047e-07    18954.574636                  1.0   \n",
       "3        0.000067         8.088442e-04        0.287043                  1.0   \n",
       "4             NaN                  NaN             NaN                  NaN   \n",
       "\n",
       "   ph_dim_0                                   ph_dim_logspace0   \n",
       "0       NaN  [2.0, 2.1760912590556813, 2.3010299956639813, ...  \\\n",
       "1  3.001077  [2.0, 2.1760912590556813, 2.3010299956639813, ...   \n",
       "2  6.601958  [2.0, 2.1760912590556813, 2.3010299956639813, ...   \n",
       "3  3.089001  [2.0, 2.1760912590556813, 2.3010299956639813, ...   \n",
       "4       NaN  [2.0, 2.1760912590556813, 2.3010299956639813, ...   \n",
       "\n",
       "                                    ph_dim_logedges0  ph_dim_1   \n",
       "0  [-2.585460737698983, -inf, -inf, -inf, -2.5854...       NaN  \\\n",
       "1  [2.8539098243378005, 2.941284706861319, 3.0115...       NaN   \n",
       "2  [3.807371746688479, 3.9513817130565716, 4.0458... -2.844950   \n",
       "3  [-0.24722000564139476, -0.23919554552698627, -... -0.854038   \n",
       "4  [-2.585460737698983, -inf, -inf, -inf, -2.5854...       NaN   \n",
       "\n",
       "                                    ph_dim_logspace1   \n",
       "0  [2.0, 2.1760912590556813, 2.3010299956639813, ...  \\\n",
       "1  [2.0, 2.1760912590556813, 2.3010299956639813, ...   \n",
       "2  [2.0, 2.1760912590556813, 2.3010299956639813, ...   \n",
       "3  [2.0, 2.1760912590556813, 2.3010299956639813, ...   \n",
       "4  [2.0, 2.1760912590556813, 2.3010299956639813, ...   \n",
       "\n",
       "                                    ph_dim_logedges1   \n",
       "0   [-inf, -inf, -inf, -inf, -inf, -inf, -inf, -inf]  \\\n",
       "1  [-inf, -0.7987698387275062, -0.003217816898287...   \n",
       "2  [2.2398452842861496, 2.390922998194138, 2.6953...   \n",
       "3  [-3.3926713868770513, -2.812892822968577, -2.5...   \n",
       "4   [-inf, -inf, -inf, -inf, -inf, -inf, -inf, -inf]   \n",
       "\n",
       "                                          dgms_train  b_0_train  b_1_train   \n",
       "0                                           [[], []]          0          0  \\\n",
       "1  [[[0.0, 1.0], [0.0, 1.7404422760009766], [0.0,...        399         31   \n",
       "2  [[[0.0, 1.0], [0.0, 2.0], [0.0, 3.0], [0.0, 6....        399        223   \n",
       "3  [[[0.0, 1.0744978240495584e-08], [0.0, 3.87157...        399        150   \n",
       "4                                           [[], []]          0          0   \n",
       "\n",
       "   b_0_norm_train  b_1_norm_train  ph_entr_0_train  ph_entr_1_train   \n",
       "0          0.0000          0.0000              NaN              NaN  \\\n",
       "1          0.9975          0.0775         8.612998         4.379367   \n",
       "2          0.9975          0.5575         8.586323         7.111853   \n",
       "3          0.9975          0.3750         4.808135         4.661190   \n",
       "4          0.0000          0.0000              NaN              NaN   \n",
       "\n",
       "   lifetimes_min_0_train  norm_lifetimes_min_0_train  lifetimes_max_0_train   \n",
       "0                    NaN                         NaN                    NaN  \\\n",
       "1           1.000000e+00                5.679197e-04               8.385021   \n",
       "2           1.000000e+00                4.803072e-05             117.514297   \n",
       "3           1.074498e-08                1.020079e-08               0.124370   \n",
       "4                    NaN                         NaN                    NaN   \n",
       "\n",
       "   norm_lifetimes_max_0_train  lifetimes_mean_0_train   \n",
       "0                         NaN                     NaN  \\\n",
       "1                    0.004762                4.413063   \n",
       "2                    0.005644               52.180474   \n",
       "3                    0.118071                0.002640   \n",
       "4                         NaN                     NaN   \n",
       "\n",
       "   norm_lifetimes_mean_0_train  lifetimes_var_0_train   \n",
       "0                          NaN                    NaN  \\\n",
       "1                     0.002506               0.726968   \n",
       "2                     0.002506             180.825104   \n",
       "3                     0.002506               0.000156   \n",
       "4                          NaN                    NaN   \n",
       "\n",
       "   norm_lifetimes_var_0_train  lifetimes_sum_0_train   \n",
       "0                         NaN                    NaN  \\\n",
       "1                2.344710e-07            1760.812333   \n",
       "2                4.171545e-07           20820.009161   \n",
       "3                1.410219e-04               1.053348   \n",
       "4                         NaN                    NaN   \n",
       "\n",
       "   norm_lifetimes_sum_0_train  midlifes_min_0_train   \n",
       "0                         NaN                   NaN  \\\n",
       "1                         1.0          5.000000e-01   \n",
       "2                         1.0          5.000000e-01   \n",
       "3                         1.0          5.372489e-09   \n",
       "4                         NaN                   NaN   \n",
       "\n",
       "   norm_midlifes_min_0_train  midlifes_max_0_train  norm_midlifes_max_0_train   \n",
       "0                        NaN                   NaN                        NaN  \\\n",
       "1               5.679197e-04              4.192511                   0.004762   \n",
       "2               4.803072e-05             58.757149                   0.005644   \n",
       "3               1.020079e-08              0.062185                   0.118071   \n",
       "4                        NaN                   NaN                        NaN   \n",
       "\n",
       "   midlifes_mean_0_train  norm_midlifes_mean_0_train  midlifes_var_0_train   \n",
       "0                    NaN                         NaN                   NaN  \\\n",
       "1               2.206532                    0.002506              0.181742   \n",
       "2              26.090237                    0.002506             45.206276   \n",
       "3               0.001320                    0.002506              0.000039   \n",
       "4                    NaN                         NaN                   NaN   \n",
       "\n",
       "   norm_midlifes_var_0_train  midlifes_sum_0_train  norm_midlifes_sum_0_train   \n",
       "0                        NaN                   NaN                        NaN  \\\n",
       "1               2.344710e-07            880.406167                        1.0   \n",
       "2               4.171545e-07          10410.004580                        1.0   \n",
       "3               1.410219e-04              0.526674                        1.0   \n",
       "4                        NaN                   NaN                        NaN   \n",
       "\n",
       "   lifetimes_min_1_train  norm_lifetimes_min_1_train  lifetimes_max_1_train   \n",
       "0                    NaN                         NaN                    NaN  \\\n",
       "1           4.302502e-03                6.508621e-04               0.812698   \n",
       "2           1.718140e-02                1.453118e-05              36.186306   \n",
       "3           3.434252e-09                8.709012e-07               0.001039   \n",
       "4                    NaN                         NaN                    NaN   \n",
       "\n",
       "   norm_lifetimes_max_1_train  lifetimes_mean_1_train   \n",
       "0                         NaN                     NaN  \\\n",
       "1                    0.122941                0.213241   \n",
       "2                    0.030605                5.302158   \n",
       "3                    0.263542                0.000026   \n",
       "4                         NaN                     NaN   \n",
       "\n",
       "   norm_lifetimes_mean_1_train  lifetimes_var_1_train   \n",
       "0                          NaN                    NaN  \\\n",
       "1                     0.032258           4.203790e-02   \n",
       "2                     0.004484           3.406561e+01   \n",
       "3                     0.006667           9.788530e-09   \n",
       "4                          NaN                    NaN   \n",
       "\n",
       "   norm_lifetimes_var_1_train  lifetimes_sum_1_train   \n",
       "0                         NaN                    NaN  \\\n",
       "1                    0.000962               6.610466   \n",
       "2                    0.000024            1182.381134   \n",
       "3                    0.000629               0.003943   \n",
       "4                         NaN                    NaN   \n",
       "\n",
       "   norm_lifetimes_sum_1_train  midlifes_min_1_train   \n",
       "0                         NaN                   NaN  \\\n",
       "1                         1.0              4.478122   \n",
       "2                         1.0             48.672585   \n",
       "3                         1.0              0.000015   \n",
       "4                         NaN                   NaN   \n",
       "\n",
       "   norm_midlifes_min_1_train  midlifes_max_1_train  norm_midlifes_max_1_train   \n",
       "0                        NaN                   NaN                        NaN  \\\n",
       "1                   0.026566              7.396824                   0.043881   \n",
       "2                   0.003212            130.778008                   0.008630   \n",
       "3                   0.000106              0.076615                   0.534266   \n",
       "4                        NaN                   NaN                        NaN   \n",
       "\n",
       "   midlifes_mean_1_train  norm_midlifes_mean_1_train  midlifes_var_1_train   \n",
       "0                    NaN                         NaN                   NaN  \\\n",
       "1               5.437630                    0.032258              0.438489   \n",
       "2              67.953113                    0.004484            173.501614   \n",
       "3               0.000956                    0.006667              0.000044   \n",
       "4                    NaN                         NaN                   NaN   \n",
       "\n",
       "   norm_midlifes_var_1_train  midlifes_sum_1_train  norm_midlifes_sum_1_train   \n",
       "0                        NaN                   NaN                        NaN  \\\n",
       "1               1.543178e-05            168.566545                        1.0   \n",
       "2               7.555706e-07          15153.544216                        1.0   \n",
       "3               2.135853e-03              0.143403                        1.0   \n",
       "4                        NaN                   NaN                        NaN   \n",
       "\n",
       "   ph_dim_0_train                             ph_dim_logspace0_train   \n",
       "0             NaN  [2.0, 2.1760912590556813, 2.3010299956639813, ...  \\\n",
       "1        2.770580  [2.0, 2.1760912590556813, 2.3010299956639813, ...   \n",
       "2        8.379183  [2.0, 2.1760912590556813, 2.3010299956639813, ...   \n",
       "3        2.634079  [2.0, 2.1760912590556813, 2.3010299956639813, ...   \n",
       "4             NaN  [2.0, 2.1760912590556813, 2.3010299956639813, ...   \n",
       "\n",
       "                              ph_dim_logedges0_train  ph_dim_1_train   \n",
       "0               [-inf, -inf, -inf, -inf, -inf, -inf]             NaN  \\\n",
       "1  [2.854443537882453, 2.9454672214498236, 3.0096...       -0.631975   \n",
       "2  [3.7878905175739708, 3.9564371769818383, 4.049...       -1.827742   \n",
       "3  [-0.33591224435942696, -0.26715470875530456, -...       -0.588383   \n",
       "4               [-inf, -inf, -inf, -inf, -inf, -inf]             NaN   \n",
       "\n",
       "                              ph_dim_logspace1_train   \n",
       "0  [2.0, 2.1760912590556813, 2.3010299956639813, ...  \\\n",
       "1  [2.0, 2.1760912590556813, 2.3010299956639813, ...   \n",
       "2  [2.0, 2.1760912590556813, 2.3010299956639813, ...   \n",
       "3  [2.0, 2.1760912590556813, 2.3010299956639813, ...   \n",
       "4  [2.0, 2.1760912590556813, 2.3010299956639813, ...   \n",
       "\n",
       "                              ph_dim_logedges1_train  sample_size  sample_dim   \n",
       "0               [-inf, -inf, -inf, -inf, -inf, -inf]          500         385  \\\n",
       "1  [-0.660568189349607, -0.17980088145810064, -0....          500         385   \n",
       "2  [2.1793969978150214, 2.4070955674617953, 2.548...          500         385   \n",
       "3  [-3.8169290979898483, -3.068827654682512, -3.0...          500         385   \n",
       "4               [-inf, -inf, -inf, -inf, -inf, -inf]          500         385   \n",
       "\n",
       "   pca_dim  twonn_dim      rogi   rogi_xd  rmodi      sari  sample_size_train   \n",
       "0        1    7.86318  0.389728  0.208027  0.000  0.000042                400  \\\n",
       "1        1    7.86318  0.376890  0.280613  0.350  0.000000                400   \n",
       "2        1    7.86318  0.319336  0.258173  0.456  0.000000                400   \n",
       "3        1    7.86318  0.381142  0.265305  0.488  0.000053                400   \n",
       "4        1    7.86318  0.389728  0.208027  0.000  0.000042                400   \n",
       "\n",
       "   sample_dim_train  pca_dim_train  twonn_dim_train  rogi_train   \n",
       "0               385            1.0         6.805593         NaN  \\\n",
       "1               385            1.0         6.805593    0.370457   \n",
       "2               385            1.0         6.805593    0.312693   \n",
       "3               385            1.0         6.805593    0.388209   \n",
       "4               385            1.0         6.805593         NaN   \n",
       "\n",
       "   rogi_xd_train  rmodi_train  sari_train  n_fits     split  \n",
       "0       0.202625       0.0000    0.000049      28  scaffold  \n",
       "1       0.275846       0.3550    0.000000      28  scaffold  \n",
       "2       0.253645       0.4625    0.000000      28  scaffold  \n",
       "3       0.269303       0.4950    0.000059      28  scaffold  \n",
       "4       0.202625       0.0000    0.000049      40  scaffold  "
      ]
     },
     "execution_count": 14,
     "metadata": {},
     "output_type": "execute_result"
    }
   ],
   "source": [
    "import os\n",
    "import pandas as pd\n",
    "from tqdm import tqdm\n",
    "\n",
    "MODE = \"intermediate\" # multiple, intermediate, full\n",
    "DIR = \"../topolearn/processed_data\"\n",
    "\n",
    "if MODE == \"intermediate\":\n",
    "    # Load data from intermediate results\n",
    "    folder_path = f'{DIR}/intermediate'\n",
    "    dataframes = []\n",
    "\n",
    "    for filename in tqdm(os.listdir(folder_path)):\n",
    "        if filename.endswith('.csv'):\n",
    "            df = pd.read_csv(os.path.join(folder_path, filename))\n",
    "            df[\"split\"] = filename.split(\"_\")[-1].split(\".\")[0]\n",
    "            dataframes.append(df)\n",
    "    df = pd.concat(dataframes, ignore_index=True)\n",
    "    df.to_csv(f\"{DIR}/merged.csv\")\n",
    "elif MODE == \"multiple\":\n",
    "    # Load multiple final results files\n",
    "    dfs = []\n",
    "    for fn in [f\"{DIR}/comparison_1.csv\", f\"{DIR}/comparison_2.csv\"]:\n",
    "        dfs.append(pd.read_csv(fn))\n",
    "    df = pd.concat(dfs, axis=0)\n",
    "    pass\n",
    "elif MODE == \"full\":\n",
    "    # Load a single results file\n",
    "    filename=f\"{DIR}/comparison.csv\"\n",
    "    df = pd.read_csv(filename)\n",
    "\n",
    "df = df[~df.duplicated()].reset_index(drop=True)\n",
    "print(df.shape)\n",
    "df.head()"
   ]
  },
  {
   "cell_type": "markdown",
   "metadata": {},
   "source": [
    "Aggregate seed losses"
   ]
  },
  {
   "cell_type": "code",
   "execution_count": 15,
   "metadata": {},
   "outputs": [],
   "source": [
    "df[\"MAE\"] = df[[col for col in df.columns if col.startswith(\"MAE\")]].mean(axis=1)\n",
    "df[\"MAE_var\"] = df[[col for col in df.columns if col.startswith(\"MAE\")]].var(axis=1)\n",
    "df[\"RMSE\"] = df[[col for col in df.columns if col.startswith(\"RMSE\")]].mean(axis=1)\n",
    "df[\"RMSE_var\"] = df[[col for col in df.columns if col.startswith(\"RMSE\")]].var(axis=1)\n",
    "df[\"MAPE\"] = df[[col for col in df.columns if col.startswith(\"MAPE\")]].mean(axis=1)\n",
    "df[\"MAPE_var\"] = df[[col for col in df.columns if col.startswith(\"MAPE\")]].var(axis=1)\n",
    "df[\"R2\"] = df[[col for col in df.columns if col.startswith(\"R2\")]].mean(axis=1)\n",
    "df[\"R2_var\"] = df[[col for col in df.columns if col.startswith(\"R2\")]].var(axis=1)\n",
    "\n",
    "# Generalization gap based on CV score\n",
    "df[\"generalization_gap\"] = abs(df[\"MAE\"] - (-df[\"best_cv_score\"]))"
   ]
  },
  {
   "cell_type": "markdown",
   "metadata": {},
   "source": [
    "Define representation types"
   ]
  },
  {
   "cell_type": "code",
   "execution_count": 16,
   "metadata": {},
   "outputs": [
    {
     "name": "stdout",
     "output_type": "stream",
     "text": [
      "AVALON:  3087  /  3087 1026  /  [0. 0. 1. 1. 0. 1. 1. 1. 1. 1.]\n",
      "ECFP4:  3087  /  3087 1026  /  [0. 0. 0. 0. 0. 0. 0. 0. 0. 0.]\n",
      "MACCS:  3087  /  3087 169  /  [0 0 0 0 0 0 0 0 0 0]\n",
      "RDKit:  3087  /  3087 1026  /  [1. 1. 1. 1. 1. 1. 1. 1. 1. 1.]\n",
      "PubChem:  3087  /  3087 883  /  [1 1 1 0 0 0 0 0 0 1]\n",
      "KR:  3087  /  3087 4862  /  [1 0 0 0 0 0 0 0 0 0]\n",
      "EState:  3087  /  3087 81  /  [0 0 0 0 0 0 1 0 1 0]\n",
      "MAP4:  3087  /  3087 1026  /  [0 0 1 0 1 1 0 1 0 1]\n",
      "Pharm2D:  3087  /  3087 2050  /  [0. 0. 0. 0. 1. 1. 0. 1. 0. 0.]\n",
      "MolProp2:  1  /  3087 16  /  [0.29152093 0.19047619 0.6        0.42857143 0.45       0.375\n",
      " 0.2        0.         0.8        0.66666667]\n",
      "Combined:  0  /  3087 1994  /  [176.         526.         612.80634736 200.91178597 766.4\n",
      " 562.386293   213.         533.         569.5798092  240.30778819]\n",
      "2DAP:  224  /  3087 1598  /  [142  89   0   0  67   0   0   0   9   0]\n",
      "FGCount:  2189  /  3087 155  /  [ 0  3  0  0  3  0  0 11  0  0]\n",
      ">>>> No features for ConnectIdx\n",
      "MolProp:  18  /  3087 26  /  [  4.39231742   3.70043972   0.9461744  115.86959977 115.86959977\n",
      " 118.24       118.24         2.4727182    6.11433531   1.86249997]\n",
      "ConstIdx:  0  /  3087 52  /  [434.48         8.51921569  34.1449      52.2833      34.4605\n",
      "  58.2361       0.66950784   1.02516275   0.67569608   1.14188431]\n",
      "RingDesc:  86  /  3087 37  /  [ 5.          6.         26.         24.          1.          0.75\n",
      "  0.08333333  1.08333333  4.          0.8       ]\n",
      "TOPO:  0  /  3087 76  /  [176.         526.         612.80634736 200.91178597 766.4\n",
      " 562.386293   213.         533.         569.5798092  240.30778819]\n",
      "WalkPath:  0  /  3087 48  /  [ 3.61091791  5.17614973  6.05678401  6.95749737  7.85282781  8.75731185\n",
      "  9.65790666 10.56429231 11.46758285 12.37530474]\n",
      "CATS2D:  2284  /  3087 191  /  [3. 0. 0. 0. 2. 0. 4. 0. 0. 3.]\n",
      "RAND:  0  /  3087 130  /  [0.096865   0.27519868 0.46113132 0.88265517 0.67468702 0.45000893\n",
      " 0.08977352 0.86291106 0.46265714 0.14620086]\n",
      "SafeGPT:  0  /  3087 770  /  [ 0.09933542 -0.02048126 -0.27931434 -0.2624446   0.1258284   0.2868309\n",
      "  0.06677368  0.09070237 -0.03355879 -0.03842358]\n",
      "ChemGPT:  0  /  3087 258  /  [-0.19071977  0.90675664 -1.64662111 -0.82170373  1.66820502 -0.96286297\n",
      "  0.24214657  1.11243737  1.6538291  -0.1134294 ]\n",
      "ChemBERTa:  0  /  3087 386  /  [ 0.15619501 -0.01885009 -0.1046281   0.08504613  0.025618    0.14031906\n",
      " -0.31088468  0.71498328  0.81737947  1.01564372]\n",
      "Graphormer:  0  /  3087 770  /  [-3.15536410e-02 -1.69143602e-02 -2.30759680e-02 -1.10435691e-02\n",
      " -3.86619344e-02  1.23910708e-02 -1.45584807e-01 -1.41532868e-01\n",
      " -9.44097564e-02 -7.27172155e-05]\n",
      "GIN:  0  /  3087 302  /  [ 0.00339218 -0.19210866  0.22827993 -0.063911   -0.20565873 -0.18535212\n",
      " -0.20371026 -0.20849888 -0.19971557 -0.00929409]\n",
      "MoLFormer-XL:  0  /  3087 770  /  [0.04123786 0.13408902 0.0859878  0.3341543  0.01372372 0.1535321\n",
      " 0.15319425 0.06846382 0.21586008 0.683172  ]\n",
      ">>>> No features for ChemFIE-BED\n",
      "Mol2Vec:  0  /  3087 302  /  [  4.853312    -6.917417    -5.1527357    9.339906     0.61291003\n",
      "  -1.9058074  -14.478189    -1.9450154    8.981054     6.3321733 ]\n"
     ]
    }
   ],
   "source": [
    "mapping = {\n",
    "    # Fingerprints\n",
    "   'AVALON': \"fingerprint\", \n",
    "   'ECFP4': \"fingerprint\", \n",
    "   'MACCS': \"fingerprint\",\n",
    "   'RDKit': \"fingerprint\",\n",
    "   \"PubChem\": \"fingerprint\",\n",
    "   \"KR\": \"fingerprint\",\n",
    "   \"EState\": \"fingerprint\",\n",
    "   \"MAP4\": \"fingerprint\",\n",
    "   \"Pharm2D\": \"fingerprint\",\n",
    "\n",
    "    # Descriptors\n",
    "   \"MolProp2\": \"descriptor\",\n",
    "   \"Combined\": \"descriptor\",\n",
    "   \"2DAP\": \"descriptor\",\n",
    "   \"FGCount\": \"descriptor\",\n",
    "   \"ConnectIdx\": \"descriptor\",\n",
    "   \"MolProp\": \"descriptor\",\n",
    "   \"ConstIdx\": \"descriptor\",\n",
    "   \"RingDesc\": \"descriptor\",\n",
    "   \"TOPO\": \"descriptor\",\n",
    "   \"WalkPath\": \"descriptor\",\n",
    "   'CATS2D': \"descriptor\", \n",
    "\n",
    "    # Pretrained embeddings\n",
    "   \"RAND\": \"embedding\",\n",
    "   'SafeGPT': \"embedding\",\n",
    "   'ChemGPT': \"embedding\", \n",
    "   'ChemBERTa': \"embedding\",\n",
    "   'Graphormer': \"embedding\",\n",
    "   'GIN': \"embedding\",\n",
    "   \"MoLFormer-XL\": \"embedding\",\n",
    "   \"ChemFIE-BED\": \"embedding\",\n",
    "   \"Mol2Vec\": \"embedding\"\n",
    "}\n",
    "\n",
    "df[\"representation_type\"] = df[\"representation\"].map(mapping)\n",
    "\n",
    "# Sanity check for how many binary values per representation\n",
    "for representation in list(mapping.keys()):\n",
    "    try:\n",
    "        dat = pd.read_pickle(f\"../data/features/HLMC/HLMC_{representation}.pkl\")\n",
    "        n = ((dat.drop([\"smiles\", \"target\"], axis=1) == 0).sum() + (dat.drop([\"smiles\", \"target\"], axis=1) == 1).sum()).iloc[0]\n",
    "        print(f\"{representation}: \", n, \" / \", dat.shape[0], dat.shape[1],  \" / \", dat.drop([\"smiles\", \"target\"], axis=1).iloc[0].values[:10])\n",
    "    except:\n",
    "        print(f\">>>> No features for {representation}\")\n",
    "\n",
    "assert df[df[\"representation_type\"].isna()].shape[0] == 0"
   ]
  },
  {
   "cell_type": "markdown",
   "metadata": {},
   "source": [
    "Filter distance metrics\n",
    "\n",
    "- Different representations use different underlying distance measures\n",
    "- Here we use euclidean for descriptors and pretrained and jaccard for fingerprints and drop all other computations\n",
    "- The example below shows that the topological properties are directly affected by the distance measure"
   ]
  },
  {
   "cell_type": "code",
   "execution_count": 17,
   "metadata": {},
   "outputs": [
    {
     "name": "stderr",
     "output_type": "stream",
     "text": [
      "/tmp/ipykernel_2571526/1337123865.py:6: UserWarning:\n",
      "\n",
      "The palette list has more values (7) than needed (4), which may not be intended.\n",
      "\n"
     ]
    },
    {
     "data": {
      "text/plain": [
       "<Axes: xlabel='Persistence entropy', ylabel='Frequency'>"
      ]
     },
     "execution_count": 17,
     "metadata": {},
     "output_type": "execute_result"
    },
    {
     "data": {
      "image/png": "[encoded data removed]",
      "text/plain": [
       "<Figure size 500x500 with 1 Axes>"
      ]
     },
     "metadata": {},
     "output_type": "display_data"
    }
   ],
   "source": [
    "import seaborn as sns\n",
    "from plotting import load_plot_config, get_default_palette\n",
    "sns.set_theme(rc={'figure.figsize':(5, 5)})\n",
    "\n",
    "load_plot_config()\n",
    "fig = sns.histplot(df, x=\"ph_entr_0\", hue=\"distance_metric\", kde=True, stat=\"frequency\", palette=get_default_palette(), bins=20, alpha=0.5)\n",
    "fig.xaxis.grid(True)\n",
    "fig.xaxis.grid(color='lightgray')\n",
    "fig.set(ylabel=\"Frequency\")\n",
    "fig.set(xlabel=\"Persistence entropy\")\n",
    "fig.set_axisbelow(True)\n",
    "legend = fig.get_legend()\n",
    "legend.set_title('Distance metric')\n",
    "sns.despine(offset=10)\n",
    "fig.figure.savefig(f'plots/dist_metric.png', dpi=300, bbox_inches=\"tight\")\n",
    "fig"
   ]
  },
  {
   "cell_type": "code",
   "execution_count": 18,
   "metadata": {},
   "outputs": [
    {
     "name": "stdout",
     "output_type": "stream",
     "text": [
      "Shape before distance filter:  (21216, 162)\n",
      "Shape after distance filter:  (5304, 162)\n"
     ]
    }
   ],
   "source": [
    "print(\"Shape before distance filter: \", df.shape)\n",
    "df = df[((df[\"representation_type\"].isin([\"descriptor\", \"embedding\"]) & (df[\"distance_metric\"] == \"euclidean\"))) \n",
    "        | ((df[\"representation_type\"].isin([\"fingerprint\"])  & (df[\"distance_metric\"] == \"jaccard\")))]\n",
    "print(\"Shape after distance filter: \", df.shape)"
   ]
  },
  {
   "cell_type": "markdown",
   "metadata": {},
   "source": [
    "Check which models work best for which representation\n",
    "- Embeddings generally use MLPs more often"
   ]
  },
  {
   "cell_type": "code",
   "execution_count": 19,
   "metadata": {},
   "outputs": [
    {
     "data": {
      "image/png": "[encoded data removed]",
      "text/plain": [
       "<Figure size 2000x300 with 1 Axes>"
      ]
     },
     "metadata": {},
     "output_type": "display_data"
    }
   ],
   "source": [
    "import seaborn as sns\n",
    "import matplotlib.pyplot as plt\n",
    "\n",
    "dimensions = [\"representation\", \"dataset\", \"samples\", \"distance_metric\", \"split\"]\n",
    "metric = \"MAE\"\n",
    "df_best = df.merge(df.groupby(dimensions)[[metric]].agg(best = (metric, \"min\")), how=\"left\", on=dimensions)\n",
    "best_data = df_best[df_best[metric] == df_best[\"best\"]].groupby(dimensions + [\"model\"])[\"MAE\"].first().reset_index()\n",
    "\n",
    "sns.set_theme(rc={'figure.figsize':(20, 3)})\n",
    "p = sns.boxplot(data=best_data, x=\"representation\", y=\"MAE\", hue=\"model\")\n",
    "plt.xticks(rotation=30)\n",
    "plt.show()"
   ]
  },
  {
   "cell_type": "markdown",
   "metadata": {},
   "source": [
    "Filter fine-tune model"
   ]
  },
  {
   "cell_type": "code",
   "execution_count": 20,
   "metadata": {},
   "outputs": [
    {
     "name": "stdout",
     "output_type": "stream",
     "text": [
      "New shape:  (2652, 162)\n"
     ]
    }
   ],
   "source": [
    "# INTUITIVE = Embeddings use a dense fine-tune layer, Fingerprints use a RF\n",
    "# BEST = Use the best model for each representation\n",
    "option = \"BEST\"\n",
    "\n",
    "if option == \"INTUITIVE\":\n",
    "    df = df[(df[\"representation_type\"] == \"fingerprint\") & (df[\"model\"] == \"RandomForestRegressor\")\n",
    "        | (df[\"representation_type\"] == \"descriptor\") & (df[\"model\"] == \"RandomForestRegressor\")\n",
    "        | (df[\"representation_type\"] == \"embedding\") & (df[\"model\"] == \"MLPRegressor\")]\n",
    "elif option == \"BEST\":\n",
    "    dimensions = [\"representation\", \"dataset\", \"samples\", \"distance_metric\", \"split\"]\n",
    "    metric = \"MAE\"\n",
    "    df_best = df.merge(df.groupby(dimensions)[[metric]].agg(best = (metric, \"min\")), how=\"left\", on=dimensions)\n",
    "    best_data = df_best[df_best[metric] == df_best[\"best\"]].groupby(dimensions + [\"model\"])[\"MAE\"].first().reset_index()\n",
    "    d = df.merge(best_data, on=dimensions + [\"model\"], how=\"left\")\n",
    "    df = d[d[f\"{metric}_x\"] == d[f\"{metric}_y\"]]\n",
    "    df = df.drop(\"MAE_y\", axis=1)\n",
    "    df = df.rename({\"MAE_x\": \"MAE\"}, axis=1)\n",
    "\n",
    "print(\"New shape: \", df.shape)"
   ]
  },
  {
   "cell_type": "code",
   "execution_count": 21,
   "metadata": {},
   "outputs": [
    {
     "name": "stderr",
     "output_type": "stream",
     "text": [
      "/tmp/ipykernel_2571526/2601028836.py:3: UserWarning:\n",
      "\n",
      "The palette list has more values (7) than needed (2), which may not be intended.\n",
      "\n"
     ]
    },
    {
     "data": {
      "image/png": "[encoded data removed]",
      "text/plain": [
       "<Figure size 500x500 with 1 Axes>"
      ]
     },
     "metadata": {},
     "output_type": "display_data"
    }
   ],
   "source": [
    "sns.set_theme(rc={'figure.figsize':(5, 5)})\n",
    "load_plot_config()\n",
    "fig = sns.histplot(df[df[\"R2\"] > -1], x=\"R2\", hue=\"split\", kde=True, palette=get_default_palette())\n",
    "fig.figure.savefig('plots/r2_dist.png', dpi=300)"
   ]
  },
  {
   "cell_type": "markdown",
   "metadata": {},
   "source": [
    "Check which representations use which model types\n",
    "- Random Forest is generally better suited for fine-tuning"
   ]
  },
  {
   "cell_type": "code",
   "execution_count": 22,
   "metadata": {},
   "outputs": [
    {
     "data": {
      "application/vnd.plotly.v1+json": {
       "config": {
        "plotlyServerURL": "https://plot.ly"
       },
       "data": [
        {
         "alignmentgroup": "True",
         "hovertemplate": "representation_type=descriptor<br>model=%{x}<br>count=%{y}<extra></extra>",
         "legendgroup": "descriptor",
         "marker": {
          "color": "#636efa",
          "pattern": {
           "shape": ""
          }
         },
         "name": "descriptor",
         "offsetgroup": "descriptor",
         "orientation": "v",
         "showlegend": true,
         "textposition": "auto",
         "type": "bar",
         "x": [
          "MLPRegressor",
          "RandomForestRegressor"
         ],
         "xaxis": "x",
         "y": [
          9,
          1011
         ],
         "yaxis": "y"
        },
        {
         "alignmentgroup": "True",
         "hovertemplate": "representation_type=embedding<br>model=%{x}<br>count=%{y}<extra></extra>",
         "legendgroup": "embedding",
         "marker": {
          "color": "#EF553B",
          "pattern": {
           "shape": ""
          }
         },
         "name": "embedding",
         "offsetgroup": "embedding",
         "orientation": "v",
         "showlegend": true,
         "textposition": "auto",
         "type": "bar",
         "x": [
          "MLPRegressor",
          "RandomForestRegressor"
         ],
         "xaxis": "x",
         "y": [
          99,
          615
         ],
         "yaxis": "y"
        },
        {
         "alignmentgroup": "True",
         "hovertemplate": "representation_type=fingerprint<br>model=%{x}<br>count=%{y}<extra></extra>",
         "legendgroup": "fingerprint",
         "marker": {
          "color": "#00cc96",
          "pattern": {
           "shape": ""
          }
         },
         "name": "fingerprint",
         "offsetgroup": "fingerprint",
         "orientation": "v",
         "showlegend": true,
         "textposition": "auto",
         "type": "bar",
         "x": [
          "MLPRegressor",
          "RandomForestRegressor"
         ],
         "xaxis": "x",
         "y": [
          63,
          855
         ],
         "yaxis": "y"
        }
       ],
       "layout": {
        "barmode": "relative",
        "legend": {
         "title": {
          "text": "representation_type"
         },
         "tracegroupgap": 0
        },
        "margin": {
         "t": 60
        },
        "template": {
         "data": {
          "bar": [
           {
            "error_x": {
             "color": "#2a3f5f"
            },
            "error_y": {
             "color": "#2a3f5f"
            },
            "marker": {
             "line": {
              "color": "#E5ECF6",
              "width": 0.5
             },
             "pattern": {
              "fillmode": "overlay",
              "size": 10,
              "solidity": 0.2
             }
            },
            "type": "bar"
           }
          ],
          "barpolar": [
           {
            "marker": {
             "line": {
              "color": "#E5ECF6",
              "width": 0.5
             },
             "pattern": {
              "fillmode": "overlay",
              "size": 10,
              "solidity": 0.2
             }
            },
            "type": "barpolar"
           }
          ],
          "carpet": [
           {
            "aaxis": {
             "endlinecolor": "#2a3f5f",
             "gridcolor": "white",
             "linecolor": "white",
             "minorgridcolor": "white",
             "startlinecolor": "#2a3f5f"
            },
            "baxis": {
             "endlinecolor": "#2a3f5f",
             "gridcolor": "white",
             "linecolor": "white",
             "minorgridcolor": "white",
             "startlinecolor": "#2a3f5f"
            },
            "type": "carpet"
           }
          ],
          "choropleth": [
           {
            "colorbar": {
             "outlinewidth": 0,
             "ticks": ""
            },
            "type": "choropleth"
           }
          ],
          "contour": [
           {
            "colorbar": {
             "outlinewidth": 0,
             "ticks": ""
            },
            "colorscale": [
             [
              0,
              "#0d0887"
             ],
             [
              0.1111111111111111,
              "#46039f"
             ],
             [
              0.2222222222222222,
              "#7201a8"
             ],
             [
              0.3333333333333333,
              "#9c179e"
             ],
             [
              0.4444444444444444,
              "#bd3786"
             ],
             [
              0.5555555555555556,
              "#d8576b"
             ],
             [
              0.6666666666666666,
              "#ed7953"
             ],
             [
              0.7777777777777778,
              "#fb9f3a"
             ],
             [
              0.8888888888888888,
              "#fdca26"
             ],
             [
              1,
              "#f0f921"
             ]
            ],
            "type": "contour"
           }
          ],
          "contourcarpet": [
           {
            "colorbar": {
             "outlinewidth": 0,
             "ticks": ""
            },
            "type": "contourcarpet"
           }
          ],
          "heatmap": [
           {
            "colorbar": {
             "outlinewidth": 0,
             "ticks": ""
            },
            "colorscale": [
             [
              0,
              "#0d0887"
             ],
             [
              0.1111111111111111,
              "#46039f"
             ],
             [
              0.2222222222222222,
              "#7201a8"
             ],
             [
              0.3333333333333333,
              "#9c179e"
             ],
             [
              0.4444444444444444,
              "#bd3786"
             ],
             [
              0.5555555555555556,
              "#d8576b"
             ],
             [
              0.6666666666666666,
              "#ed7953"
             ],
             [
              0.7777777777777778,
              "#fb9f3a"
             ],
             [
              0.8888888888888888,
              "#fdca26"
             ],
             [
              1,
              "#f0f921"
             ]
            ],
            "type": "heatmap"
           }
          ],
          "heatmapgl": [
           {
            "colorbar": {
             "outlinewidth": 0,
             "ticks": ""
            },
            "colorscale": [
             [
              0,
              "#0d0887"
             ],
             [
              0.1111111111111111,
              "#46039f"
             ],
             [
              0.2222222222222222,
              "#7201a8"
             ],
             [
              0.3333333333333333,
              "#9c179e"
             ],
             [
              0.4444444444444444,
              "#bd3786"
             ],
             [
              0.5555555555555556,
              "#d8576b"
             ],
             [
              0.6666666666666666,
              "#ed7953"
             ],
             [
              0.7777777777777778,
              "#fb9f3a"
             ],
             [
              0.8888888888888888,
              "#fdca26"
             ],
             [
              1,
              "#f0f921"
             ]
            ],
            "type": "heatmapgl"
           }
          ],
          "histogram": [
           {
            "marker": {
             "pattern": {
              "fillmode": "overlay",
              "size": 10,
              "solidity": 0.2
             }
            },
            "type": "histogram"
           }
          ],
          "histogram2d": [
           {
            "colorbar": {
             "outlinewidth": 0,
             "ticks": ""
            },
            "colorscale": [
             [
              0,
              "#0d0887"
             ],
             [
              0.1111111111111111,
              "#46039f"
             ],
             [
              0.2222222222222222,
              "#7201a8"
             ],
             [
              0.3333333333333333,
              "#9c179e"
             ],
             [
              0.4444444444444444,
              "#bd3786"
             ],
             [
              0.5555555555555556,
              "#d8576b"
             ],
             [
              0.6666666666666666,
              "#ed7953"
             ],
             [
              0.7777777777777778,
              "#fb9f3a"
             ],
             [
              0.8888888888888888,
              "#fdca26"
             ],
             [
              1,
              "#f0f921"
             ]
            ],
            "type": "histogram2d"
           }
          ],
          "histogram2dcontour": [
           {
            "colorbar": {
             "outlinewidth": 0,
             "ticks": ""
            },
            "colorscale": [
             [
              0,
              "#0d0887"
             ],
             [
              0.1111111111111111,
              "#46039f"
             ],
             [
              0.2222222222222222,
              "#7201a8"
             ],
             [
              0.3333333333333333,
              "#9c179e"
             ],
             [
              0.4444444444444444,
              "#bd3786"
             ],
             [
              0.5555555555555556,
              "#d8576b"
             ],
             [
              0.6666666666666666,
              "#ed7953"
             ],
             [
              0.7777777777777778,
              "#fb9f3a"
             ],
             [
              0.8888888888888888,
              "#fdca26"
             ],
             [
              1,
              "#f0f921"
             ]
            ],
            "type": "histogram2dcontour"
           }
          ],
          "mesh3d": [
           {
            "colorbar": {
             "outlinewidth": 0,
             "ticks": ""
            },
            "type": "mesh3d"
           }
          ],
          "parcoords": [
           {
            "line": {
             "colorbar": {
              "outlinewidth": 0,
              "ticks": ""
             }
            },
            "type": "parcoords"
           }
          ],
          "pie": [
           {
            "automargin": true,
            "type": "pie"
           }
          ],
          "scatter": [
           {
            "fillpattern": {
             "fillmode": "overlay",
             "size": 10,
             "solidity": 0.2
            },
            "type": "scatter"
           }
          ],
          "scatter3d": [
           {
            "line": {
             "colorbar": {
              "outlinewidth": 0,
              "ticks": ""
             }
            },
            "marker": {
             "colorbar": {
              "outlinewidth": 0,
              "ticks": ""
             }
            },
            "type": "scatter3d"
           }
          ],
          "scattercarpet": [
           {
            "marker": {
             "colorbar": {
              "outlinewidth": 0,
              "ticks": ""
             }
            },
            "type": "scattercarpet"
           }
          ],
          "scattergeo": [
           {
            "marker": {
             "colorbar": {
              "outlinewidth": 0,
              "ticks": ""
             }
            },
            "type": "scattergeo"
           }
          ],
          "scattergl": [
           {
            "marker": {
             "colorbar": {
              "outlinewidth": 0,
              "ticks": ""
             }
            },
            "type": "scattergl"
           }
          ],
          "scattermapbox": [
           {
            "marker": {
             "colorbar": {
              "outlinewidth": 0,
              "ticks": ""
             }
            },
            "type": "scattermapbox"
           }
          ],
          "scatterpolar": [
           {
            "marker": {
             "colorbar": {
              "outlinewidth": 0,
              "ticks": ""
             }
            },
            "type": "scatterpolar"
           }
          ],
          "scatterpolargl": [
           {
            "marker": {
             "colorbar": {
              "outlinewidth": 0,
              "ticks": ""
             }
            },
            "type": "scatterpolargl"
           }
          ],
          "scatterternary": [
           {
            "marker": {
             "colorbar": {
              "outlinewidth": 0,
              "ticks": ""
             }
            },
            "type": "scatterternary"
           }
          ],
          "surface": [
           {
            "colorbar": {
             "outlinewidth": 0,
             "ticks": ""
            },
            "colorscale": [
             [
              0,
              "#0d0887"
             ],
             [
              0.1111111111111111,
              "#46039f"
             ],
             [
              0.2222222222222222,
              "#7201a8"
             ],
             [
              0.3333333333333333,
              "#9c179e"
             ],
             [
              0.4444444444444444,
              "#bd3786"
             ],
             [
              0.5555555555555556,
              "#d8576b"
             ],
             [
              0.6666666666666666,
              "#ed7953"
             ],
             [
              0.7777777777777778,
              "#fb9f3a"
             ],
             [
              0.8888888888888888,
              "#fdca26"
             ],
             [
              1,
              "#f0f921"
             ]
            ],
            "type": "surface"
           }
          ],
          "table": [
           {
            "cells": {
             "fill": {
              "color": "#EBF0F8"
             },
             "line": {
              "color": "white"
             }
            },
            "header": {
             "fill": {
              "color": "#C8D4E3"
             },
             "line": {
              "color": "white"
             }
            },
            "type": "table"
           }
          ]
         },
         "layout": {
          "annotationdefaults": {
           "arrowcolor": "#2a3f5f",
           "arrowhead": 0,
           "arrowwidth": 1
          },
          "autotypenumbers": "strict",
          "coloraxis": {
           "colorbar": {
            "outlinewidth": 0,
            "ticks": ""
           }
          },
          "colorscale": {
           "diverging": [
            [
             0,
             "#8e0152"
            ],
            [
             0.1,
             "#c51b7d"
            ],
            [
             0.2,
             "#de77ae"
            ],
            [
             0.3,
             "#f1b6da"
            ],
            [
             0.4,
             "#fde0ef"
            ],
            [
             0.5,
             "#f7f7f7"
            ],
            [
             0.6,
             "#e6f5d0"
            ],
            [
             0.7,
             "#b8e186"
            ],
            [
             0.8,
             "#7fbc41"
            ],
            [
             0.9,
             "#4d9221"
            ],
            [
             1,
             "#276419"
            ]
           ],
           "sequential": [
            [
             0,
             "#0d0887"
            ],
            [
             0.1111111111111111,
             "#46039f"
            ],
            [
             0.2222222222222222,
             "#7201a8"
            ],
            [
             0.3333333333333333,
             "#9c179e"
            ],
            [
             0.4444444444444444,
             "#bd3786"
            ],
            [
             0.5555555555555556,
             "#d8576b"
            ],
            [
             0.6666666666666666,
             "#ed7953"
            ],
            [
             0.7777777777777778,
             "#fb9f3a"
            ],
            [
             0.8888888888888888,
             "#fdca26"
            ],
            [
             1,
             "#f0f921"
            ]
           ],
           "sequentialminus": [
            [
             0,
             "#0d0887"
            ],
            [
             0.1111111111111111,
             "#46039f"
            ],
            [
             0.2222222222222222,
             "#7201a8"
            ],
            [
             0.3333333333333333,
             "#9c179e"
            ],
            [
             0.4444444444444444,
             "#bd3786"
            ],
            [
             0.5555555555555556,
             "#d8576b"
            ],
            [
             0.6666666666666666,
             "#ed7953"
            ],
            [
             0.7777777777777778,
             "#fb9f3a"
            ],
            [
             0.8888888888888888,
             "#fdca26"
            ],
            [
             1,
             "#f0f921"
            ]
           ]
          },
          "colorway": [
           "#636efa",
           "#EF553B",
           "#00cc96",
           "#ab63fa",
           "#FFA15A",
           "#19d3f3",
           "#FF6692",
           "#B6E880",
           "#FF97FF",
           "#FECB52"
          ],
          "font": {
           "color": "#2a3f5f"
          },
          "geo": {
           "bgcolor": "white",
           "lakecolor": "white",
           "landcolor": "#E5ECF6",
           "showlakes": true,
           "showland": true,
           "subunitcolor": "white"
          },
          "hoverlabel": {
           "align": "left"
          },
          "hovermode": "closest",
          "mapbox": {
           "style": "light"
          },
          "paper_bgcolor": "white",
          "plot_bgcolor": "#E5ECF6",
          "polar": {
           "angularaxis": {
            "gridcolor": "white",
            "linecolor": "white",
            "ticks": ""
           },
           "bgcolor": "#E5ECF6",
           "radialaxis": {
            "gridcolor": "white",
            "linecolor": "white",
            "ticks": ""
           }
          },
          "scene": {
           "xaxis": {
            "backgroundcolor": "#E5ECF6",
            "gridcolor": "white",
            "gridwidth": 2,
            "linecolor": "white",
            "showbackground": true,
            "ticks": "",
            "zerolinecolor": "white"
           },
           "yaxis": {
            "backgroundcolor": "#E5ECF6",
            "gridcolor": "white",
            "gridwidth": 2,
            "linecolor": "white",
            "showbackground": true,
            "ticks": "",
            "zerolinecolor": "white"
           },
           "zaxis": {
            "backgroundcolor": "#E5ECF6",
            "gridcolor": "white",
            "gridwidth": 2,
            "linecolor": "white",
            "showbackground": true,
            "ticks": "",
            "zerolinecolor": "white"
           }
          },
          "shapedefaults": {
           "line": {
            "color": "#2a3f5f"
           }
          },
          "ternary": {
           "aaxis": {
            "gridcolor": "white",
            "linecolor": "white",
            "ticks": ""
           },
           "baxis": {
            "gridcolor": "white",
            "linecolor": "white",
            "ticks": ""
           },
           "bgcolor": "#E5ECF6",
           "caxis": {
            "gridcolor": "white",
            "linecolor": "white",
            "ticks": ""
           }
          },
          "title": {
           "x": 0.05
          },
          "xaxis": {
           "automargin": true,
           "gridcolor": "white",
           "linecolor": "white",
           "ticks": "",
           "title": {
            "standoff": 15
           },
           "zerolinecolor": "white",
           "zerolinewidth": 2
          },
          "yaxis": {
           "automargin": true,
           "gridcolor": "white",
           "linecolor": "white",
           "ticks": "",
           "title": {
            "standoff": 15
           },
           "zerolinecolor": "white",
           "zerolinewidth": 2
          }
         }
        },
        "xaxis": {
         "anchor": "y",
         "domain": [
          0,
          1
         ],
         "title": {
          "text": "model"
         }
        },
        "yaxis": {
         "anchor": "x",
         "domain": [
          0,
          1
         ],
         "title": {
          "text": "count"
         }
        }
       }
      },
      "text/html": [
       "<div>                            <div id=\"9a7638e8-16ad-4d4c-b77d-dfc500fd9569\" class=\"plotly-graph-div\" style=\"height:525px; width:100%;\"></div>            <script type=\"text/javascript\">                require([\"plotly\"], function(Plotly) {                    window.PLOTLYENV=window.PLOTLYENV || {};                                    if (document.getElementById(\"9a7638e8-16ad-4d4c-b77d-dfc500fd9569\")) {                    Plotly.newPlot(                        \"9a7638e8-16ad-4d4c-b77d-dfc500fd9569\",                        [{\"alignmentgroup\":\"True\",\"hovertemplate\":\"representation_type=descriptor\\u003cbr\\u003emodel=%{x}\\u003cbr\\u003ecount=%{y}\\u003cextra\\u003e\\u003c\\u002fextra\\u003e\",\"legendgroup\":\"descriptor\",\"marker\":{\"color\":\"#636efa\",\"pattern\":{\"shape\":\"\"}},\"name\":\"descriptor\",\"offsetgroup\":\"descriptor\",\"orientation\":\"v\",\"showlegend\":true,\"textposition\":\"auto\",\"x\":[\"MLPRegressor\",\"RandomForestRegressor\"],\"xaxis\":\"x\",\"y\":[9,1011],\"yaxis\":\"y\",\"type\":\"bar\"},{\"alignmentgroup\":\"True\",\"hovertemplate\":\"representation_type=embedding\\u003cbr\\u003emodel=%{x}\\u003cbr\\u003ecount=%{y}\\u003cextra\\u003e\\u003c\\u002fextra\\u003e\",\"legendgroup\":\"embedding\",\"marker\":{\"color\":\"#EF553B\",\"pattern\":{\"shape\":\"\"}},\"name\":\"embedding\",\"offsetgroup\":\"embedding\",\"orientation\":\"v\",\"showlegend\":true,\"textposition\":\"auto\",\"x\":[\"MLPRegressor\",\"RandomForestRegressor\"],\"xaxis\":\"x\",\"y\":[99,615],\"yaxis\":\"y\",\"type\":\"bar\"},{\"alignmentgroup\":\"True\",\"hovertemplate\":\"representation_type=fingerprint\\u003cbr\\u003emodel=%{x}\\u003cbr\\u003ecount=%{y}\\u003cextra\\u003e\\u003c\\u002fextra\\u003e\",\"legendgroup\":\"fingerprint\",\"marker\":{\"color\":\"#00cc96\",\"pattern\":{\"shape\":\"\"}},\"name\":\"fingerprint\",\"offsetgroup\":\"fingerprint\",\"orientation\":\"v\",\"showlegend\":true,\"textposition\":\"auto\",\"x\":[\"MLPRegressor\",\"RandomForestRegressor\"],\"xaxis\":\"x\",\"y\":[63,855],\"yaxis\":\"y\",\"type\":\"bar\"}],                        {\"template\":{\"data\":{\"histogram2dcontour\":[{\"type\":\"histogram2dcontour\",\"colorbar\":{\"outlinewidth\":0,\"ticks\":\"\"},\"colorscale\":[[0.0,\"#0d0887\"],[0.1111111111111111,\"#46039f\"],[0.2222222222222222,\"#7201a8\"],[0.3333333333333333,\"#9c179e\"],[0.4444444444444444,\"#bd3786\"],[0.5555555555555556,\"#d8576b\"],[0.6666666666666666,\"#ed7953\"],[0.7777777777777778,\"#fb9f3a\"],[0.8888888888888888,\"#fdca26\"],[1.0,\"#f0f921\"]]}],\"choropleth\":[{\"type\":\"choropleth\",\"colorbar\":{\"outlinewidth\":0,\"ticks\":\"\"}}],\"histogram2d\":[{\"type\":\"histogram2d\",\"colorbar\":{\"outlinewidth\":0,\"ticks\":\"\"},\"colorscale\":[[0.0,\"#0d0887\"],[0.1111111111111111,\"#46039f\"],[0.2222222222222222,\"#7201a8\"],[0.3333333333333333,\"#9c179e\"],[0.4444444444444444,\"#bd3786\"],[0.5555555555555556,\"#d8576b\"],[0.6666666666666666,\"#ed7953\"],[0.7777777777777778,\"#fb9f3a\"],[0.8888888888888888,\"#fdca26\"],[1.0,\"#f0f921\"]]}],\"heatmap\":[{\"type\":\"heatmap\",\"colorbar\":{\"outlinewidth\":0,\"ticks\":\"\"},\"colorscale\":[[0.0,\"#0d0887\"],[0.1111111111111111,\"#46039f\"],[0.2222222222222222,\"#7201a8\"],[0.3333333333333333,\"#9c179e\"],[0.4444444444444444,\"#bd3786\"],[0.5555555555555556,\"#d8576b\"],[0.6666666666666666,\"#ed7953\"],[0.7777777777777778,\"#fb9f3a\"],[0.8888888888888888,\"#fdca26\"],[1.0,\"#f0f921\"]]}],\"heatmapgl\":[{\"type\":\"heatmapgl\",\"colorbar\":{\"outlinewidth\":0,\"ticks\":\"\"},\"colorscale\":[[0.0,\"#0d0887\"],[0.1111111111111111,\"#46039f\"],[0.2222222222222222,\"#7201a8\"],[0.3333333333333333,\"#9c179e\"],[0.4444444444444444,\"#bd3786\"],[0.5555555555555556,\"#d8576b\"],[0.6666666666666666,\"#ed7953\"],[0.7777777777777778,\"#fb9f3a\"],[0.8888888888888888,\"#fdca26\"],[1.0,\"#f0f921\"]]}],\"contourcarpet\":[{\"type\":\"contourcarpet\",\"colorbar\":{\"outlinewidth\":0,\"ticks\":\"\"}}],\"contour\":[{\"type\":\"contour\",\"colorbar\":{\"outlinewidth\":0,\"ticks\":\"\"},\"colorscale\":[[0.0,\"#0d0887\"],[0.1111111111111111,\"#46039f\"],[0.2222222222222222,\"#7201a8\"],[0.3333333333333333,\"#9c179e\"],[0.4444444444444444,\"#bd3786\"],[0.5555555555555556,\"#d8576b\"],[0.6666666666666666,\"#ed7953\"],[0.7777777777777778,\"#fb9f3a\"],[0.8888888888888888,\"#fdca26\"],[1.0,\"#f0f921\"]]}],\"surface\":[{\"type\":\"surface\",\"colorbar\":{\"outlinewidth\":0,\"ticks\":\"\"},\"colorscale\":[[0.0,\"#0d0887\"],[0.1111111111111111,\"#46039f\"],[0.2222222222222222,\"#7201a8\"],[0.3333333333333333,\"#9c179e\"],[0.4444444444444444,\"#bd3786\"],[0.5555555555555556,\"#d8576b\"],[0.6666666666666666,\"#ed7953\"],[0.7777777777777778,\"#fb9f3a\"],[0.8888888888888888,\"#fdca26\"],[1.0,\"#f0f921\"]]}],\"mesh3d\":[{\"type\":\"mesh3d\",\"colorbar\":{\"outlinewidth\":0,\"ticks\":\"\"}}],\"scatter\":[{\"fillpattern\":{\"fillmode\":\"overlay\",\"size\":10,\"solidity\":0.2},\"type\":\"scatter\"}],\"parcoords\":[{\"type\":\"parcoords\",\"line\":{\"colorbar\":{\"outlinewidth\":0,\"ticks\":\"\"}}}],\"scatterpolargl\":[{\"type\":\"scatterpolargl\",\"marker\":{\"colorbar\":{\"outlinewidth\":0,\"ticks\":\"\"}}}],\"bar\":[{\"error_x\":{\"color\":\"#2a3f5f\"},\"error_y\":{\"color\":\"#2a3f5f\"},\"marker\":{\"line\":{\"color\":\"#E5ECF6\",\"width\":0.5},\"pattern\":{\"fillmode\":\"overlay\",\"size\":10,\"solidity\":0.2}},\"type\":\"bar\"}],\"scattergeo\":[{\"type\":\"scattergeo\",\"marker\":{\"colorbar\":{\"outlinewidth\":0,\"ticks\":\"\"}}}],\"scatterpolar\":[{\"type\":\"scatterpolar\",\"marker\":{\"colorbar\":{\"outlinewidth\":0,\"ticks\":\"\"}}}],\"histogram\":[{\"marker\":{\"pattern\":{\"fillmode\":\"overlay\",\"size\":10,\"solidity\":0.2}},\"type\":\"histogram\"}],\"scattergl\":[{\"type\":\"scattergl\",\"marker\":{\"colorbar\":{\"outlinewidth\":0,\"ticks\":\"\"}}}],\"scatter3d\":[{\"type\":\"scatter3d\",\"line\":{\"colorbar\":{\"outlinewidth\":0,\"ticks\":\"\"}},\"marker\":{\"colorbar\":{\"outlinewidth\":0,\"ticks\":\"\"}}}],\"scattermapbox\":[{\"type\":\"scattermapbox\",\"marker\":{\"colorbar\":{\"outlinewidth\":0,\"ticks\":\"\"}}}],\"scatterternary\":[{\"type\":\"scatterternary\",\"marker\":{\"colorbar\":{\"outlinewidth\":0,\"ticks\":\"\"}}}],\"scattercarpet\":[{\"type\":\"scattercarpet\",\"marker\":{\"colorbar\":{\"outlinewidth\":0,\"ticks\":\"\"}}}],\"carpet\":[{\"aaxis\":{\"endlinecolor\":\"#2a3f5f\",\"gridcolor\":\"white\",\"linecolor\":\"white\",\"minorgridcolor\":\"white\",\"startlinecolor\":\"#2a3f5f\"},\"baxis\":{\"endlinecolor\":\"#2a3f5f\",\"gridcolor\":\"white\",\"linecolor\":\"white\",\"minorgridcolor\":\"white\",\"startlinecolor\":\"#2a3f5f\"},\"type\":\"carpet\"}],\"table\":[{\"cells\":{\"fill\":{\"color\":\"#EBF0F8\"},\"line\":{\"color\":\"white\"}},\"header\":{\"fill\":{\"color\":\"#C8D4E3\"},\"line\":{\"color\":\"white\"}},\"type\":\"table\"}],\"barpolar\":[{\"marker\":{\"line\":{\"color\":\"#E5ECF6\",\"width\":0.5},\"pattern\":{\"fillmode\":\"overlay\",\"size\":10,\"solidity\":0.2}},\"type\":\"barpolar\"}],\"pie\":[{\"automargin\":true,\"type\":\"pie\"}]},\"layout\":{\"autotypenumbers\":\"strict\",\"colorway\":[\"#636efa\",\"#EF553B\",\"#00cc96\",\"#ab63fa\",\"#FFA15A\",\"#19d3f3\",\"#FF6692\",\"#B6E880\",\"#FF97FF\",\"#FECB52\"],\"font\":{\"color\":\"#2a3f5f\"},\"hovermode\":\"closest\",\"hoverlabel\":{\"align\":\"left\"},\"paper_bgcolor\":\"white\",\"plot_bgcolor\":\"#E5ECF6\",\"polar\":{\"bgcolor\":\"#E5ECF6\",\"angularaxis\":{\"gridcolor\":\"white\",\"linecolor\":\"white\",\"ticks\":\"\"},\"radialaxis\":{\"gridcolor\":\"white\",\"linecolor\":\"white\",\"ticks\":\"\"}},\"ternary\":{\"bgcolor\":\"#E5ECF6\",\"aaxis\":{\"gridcolor\":\"white\",\"linecolor\":\"white\",\"ticks\":\"\"},\"baxis\":{\"gridcolor\":\"white\",\"linecolor\":\"white\",\"ticks\":\"\"},\"caxis\":{\"gridcolor\":\"white\",\"linecolor\":\"white\",\"ticks\":\"\"}},\"coloraxis\":{\"colorbar\":{\"outlinewidth\":0,\"ticks\":\"\"}},\"colorscale\":{\"sequential\":[[0.0,\"#0d0887\"],[0.1111111111111111,\"#46039f\"],[0.2222222222222222,\"#7201a8\"],[0.3333333333333333,\"#9c179e\"],[0.4444444444444444,\"#bd3786\"],[0.5555555555555556,\"#d8576b\"],[0.6666666666666666,\"#ed7953\"],[0.7777777777777778,\"#fb9f3a\"],[0.8888888888888888,\"#fdca26\"],[1.0,\"#f0f921\"]],\"sequentialminus\":[[0.0,\"#0d0887\"],[0.1111111111111111,\"#46039f\"],[0.2222222222222222,\"#7201a8\"],[0.3333333333333333,\"#9c179e\"],[0.4444444444444444,\"#bd3786\"],[0.5555555555555556,\"#d8576b\"],[0.6666666666666666,\"#ed7953\"],[0.7777777777777778,\"#fb9f3a\"],[0.8888888888888888,\"#fdca26\"],[1.0,\"#f0f921\"]],\"diverging\":[[0,\"#8e0152\"],[0.1,\"#c51b7d\"],[0.2,\"#de77ae\"],[0.3,\"#f1b6da\"],[0.4,\"#fde0ef\"],[0.5,\"#f7f7f7\"],[0.6,\"#e6f5d0\"],[0.7,\"#b8e186\"],[0.8,\"#7fbc41\"],[0.9,\"#4d9221\"],[1,\"#276419\"]]},\"xaxis\":{\"gridcolor\":\"white\",\"linecolor\":\"white\",\"ticks\":\"\",\"title\":{\"standoff\":15},\"zerolinecolor\":\"white\",\"automargin\":true,\"zerolinewidth\":2},\"yaxis\":{\"gridcolor\":\"white\",\"linecolor\":\"white\",\"ticks\":\"\",\"title\":{\"standoff\":15},\"zerolinecolor\":\"white\",\"automargin\":true,\"zerolinewidth\":2},\"scene\":{\"xaxis\":{\"backgroundcolor\":\"#E5ECF6\",\"gridcolor\":\"white\",\"linecolor\":\"white\",\"showbackground\":true,\"ticks\":\"\",\"zerolinecolor\":\"white\",\"gridwidth\":2},\"yaxis\":{\"backgroundcolor\":\"#E5ECF6\",\"gridcolor\":\"white\",\"linecolor\":\"white\",\"showbackground\":true,\"ticks\":\"\",\"zerolinecolor\":\"white\",\"gridwidth\":2},\"zaxis\":{\"backgroundcolor\":\"#E5ECF6\",\"gridcolor\":\"white\",\"linecolor\":\"white\",\"showbackground\":true,\"ticks\":\"\",\"zerolinecolor\":\"white\",\"gridwidth\":2}},\"shapedefaults\":{\"line\":{\"color\":\"#2a3f5f\"}},\"annotationdefaults\":{\"arrowcolor\":\"#2a3f5f\",\"arrowhead\":0,\"arrowwidth\":1},\"geo\":{\"bgcolor\":\"white\",\"landcolor\":\"#E5ECF6\",\"subunitcolor\":\"white\",\"showland\":true,\"showlakes\":true,\"lakecolor\":\"white\"},\"title\":{\"x\":0.05},\"mapbox\":{\"style\":\"light\"}}},\"xaxis\":{\"anchor\":\"y\",\"domain\":[0.0,1.0],\"title\":{\"text\":\"model\"}},\"yaxis\":{\"anchor\":\"x\",\"domain\":[0.0,1.0],\"title\":{\"text\":\"count\"}},\"legend\":{\"title\":{\"text\":\"representation_type\"},\"tracegroupgap\":0},\"margin\":{\"t\":60},\"barmode\":\"relative\"},                        {\"responsive\": true}                    ).then(function(){\n",
       "                            \n",
       "var gd = document.getElementById('9a7638e8-16ad-4d4c-b77d-dfc500fd9569');\n",
       "var x = new MutationObserver(function (mutations, observer) {{\n",
       "        var display = window.getComputedStyle(gd).display;\n",
       "        if (!display || display === 'none') {{\n",
       "            console.log([gd, 'removed!']);\n",
       "            Plotly.purge(gd);\n",
       "            observer.disconnect();\n",
       "        }}\n",
       "}});\n",
       "\n",
       "// Listen for the removal of the full notebook cells\n",
       "var notebookContainer = gd.closest('#notebook-container');\n",
       "if (notebookContainer) {{\n",
       "    x.observe(notebookContainer, {childList: true});\n",
       "}}\n",
       "\n",
       "// Listen for the clearing of the current output cell\n",
       "var outputEl = gd.closest('.output');\n",
       "if (outputEl) {{\n",
       "    x.observe(outputEl, {childList: true});\n",
       "}}\n",
       "\n",
       "                        })                };                });            </script>        </div>"
      ]
     },
     "metadata": {},
     "output_type": "display_data"
    }
   ],
   "source": [
    "import plotly.express as px\n",
    "\n",
    "fig = px.bar(df.groupby([\"model\", \"representation_type\"]).agg(count=('MAE', 'count')).reset_index(), x=\"model\", y=\"count\", color=\"representation_type\")\n",
    "fig.show()"
   ]
  },
  {
   "cell_type": "markdown",
   "metadata": {},
   "source": [
    "Compute normalized errors based on best models\n",
    "- Normalization per dataset ensures that the errors are between 0 and 1\n",
    "- Split is added to separate scaffold and random split trainings\n",
    "- One could include the samplesize as well here, to normalize the error within each sample-dataset-split group. This leads to a ranking within each triple, which will not perform too well in the TopoLearn prediction, because multiple rankings occur multiple times e.g. the score 0.2 can occur in 500, 1000, ... ect. While effectively the one in 500 leads to the worst results."
   ]
  },
  {
   "cell_type": "code",
   "execution_count": 23,
   "metadata": {},
   "outputs": [],
   "source": [
    "agg_group = [\"dataset\", \"split\"] # sample_size\n",
    "\n",
    "# Compute min and max for normalization\n",
    "per_ds_min_mae = df.groupby(agg_group)[\"MAE\"].min().rename(\"MAE_min\")\n",
    "per_ds_min_rmse = df.groupby(agg_group)[\"RMSE\"].min().rename(\"RMSE_min\")\n",
    "per_ds_min_r2 = df.groupby(agg_group)[\"R2\"].min().rename(\"R2_min\")\n",
    "per_ds_max_mae = df.groupby(agg_group)[\"MAE\"].max().rename(\"MAE_max\")\n",
    "per_ds_max_rmse = df.groupby(agg_group)[\"RMSE\"].max().rename(\"RMSE_max\")\n",
    "per_ds_max_r2 = df.groupby(agg_group)[\"R2\"].max().rename(\"R2_max\")\n",
    "per_ds_max_cv = df.groupby(agg_group)[\"best_cv_score\"].max().rename(\"best_cv_score_max\")\n",
    "per_ds_min_cv = df.groupby(agg_group)[\"best_cv_score\"].min().rename(\"best_cv_score_min\")\n",
    "\n",
    "# Merge min and max to main df\n",
    "df = df.merge(per_ds_min_mae, on=agg_group, how=\"left\")\n",
    "df = df.merge(per_ds_min_rmse, on=agg_group, how=\"left\")\n",
    "df = df.merge(per_ds_min_r2, on=agg_group, how=\"left\")\n",
    "df = df.merge(per_ds_max_mae, on=agg_group, how=\"left\")\n",
    "df = df.merge(per_ds_max_rmse, on=agg_group, how=\"left\")\n",
    "df = df.merge(per_ds_max_r2, on=agg_group, how=\"left\")\n",
    "df = df.merge(per_ds_max_cv, on=agg_group, how=\"left\")\n",
    "df = df.merge(per_ds_min_cv, on=agg_group, how=\"left\")\n",
    "\n",
    "# Compute relative errors in range [0, 1]\n",
    "df[\"Relative MAE\"] = (df[\"MAE\"] - df[\"MAE_min\"]) / (df[\"MAE_max\"] - df[\"MAE_min\"])\n",
    "df[\"Relative RMSE\"] = (df[\"RMSE\"] - df[\"RMSE_min\"]) / (df[\"RMSE_max\"] - df[\"RMSE_min\"])\n",
    "df[\"Relative R2\"] = (df[\"R2\"] - df[\"R2_min\"]) / (df[\"R2_max\"] - df[\"R2_min\"])\n",
    "df[\"Relative CV score\"] = (df[\"best_cv_score\"] - df[\"best_cv_score_min\"]) / (df[\"best_cv_score_max\"] - df[\"best_cv_score_min\"])"
   ]
  },
  {
   "cell_type": "markdown",
   "metadata": {},
   "source": [
    "Extract hyperparameters as new columns"
   ]
  },
  {
   "cell_type": "code",
   "execution_count": 24,
   "metadata": {},
   "outputs": [],
   "source": [
    "from ast import literal_eval\n",
    "import numpy as np\n",
    "\n",
    "h_param_cols = set(sum([list(literal_eval(d).keys()) for d in df[\"best_params\"].unique()], []))\n",
    "\n",
    "for col in h_param_cols:\n",
    "    df[col] = np.nan\n",
    "\n",
    "for i, row in df.iterrows():\n",
    "    params = literal_eval(row[\"best_params\"])\n",
    "    for p in params.keys():\n",
    "        if type(params[p]) and df[p].dtype != \"object\":\n",
    "            df[p] = df[p].astype(object)\n",
    "        df.at[i, p] = params[p]"
   ]
  },
  {
   "cell_type": "markdown",
   "metadata": {},
   "source": [
    "Check nans"
   ]
  },
  {
   "cell_type": "code",
   "execution_count": 25,
   "metadata": {},
   "outputs": [
    {
     "data": {
      "text/plain": [
       "ph_entr_1                        78\n",
       "lifetimes_min_1                  78\n",
       "norm_lifetimes_min_1             78\n",
       "lifetimes_max_1                  78\n",
       "norm_lifetimes_max_1             78\n",
       "lifetimes_mean_1                 78\n",
       "norm_lifetimes_mean_1            78\n",
       "lifetimes_var_1                  78\n",
       "norm_lifetimes_var_1             78\n",
       "lifetimes_sum_1                  78\n",
       "norm_lifetimes_sum_1             78\n",
       "midlifes_min_1                   78\n",
       "norm_midlifes_min_1              78\n",
       "midlifes_max_1                   78\n",
       "norm_midlifes_max_1              78\n",
       "midlifes_mean_1                  78\n",
       "norm_midlifes_mean_1             78\n",
       "midlifes_var_1                   78\n",
       "norm_midlifes_var_1              78\n",
       "midlifes_sum_1                   78\n",
       "norm_midlifes_sum_1              78\n",
       "ph_dim_1                        690\n",
       "ph_entr_1_train                  87\n",
       "lifetimes_min_1_train            87\n",
       "norm_lifetimes_min_1_train       87\n",
       "lifetimes_max_1_train            87\n",
       "norm_lifetimes_max_1_train       87\n",
       "lifetimes_mean_1_train           87\n",
       "norm_lifetimes_mean_1_train      87\n",
       "lifetimes_var_1_train            87\n",
       "norm_lifetimes_var_1_train       87\n",
       "lifetimes_sum_1_train            87\n",
       "norm_lifetimes_sum_1_train       87\n",
       "midlifes_min_1_train             87\n",
       "norm_midlifes_min_1_train        87\n",
       "midlifes_max_1_train             87\n",
       "norm_midlifes_max_1_train        87\n",
       "midlifes_mean_1_train            87\n",
       "norm_midlifes_mean_1_train       87\n",
       "midlifes_var_1_train             87\n",
       "norm_midlifes_var_1_train        87\n",
       "midlifes_sum_1_train             87\n",
       "norm_midlifes_sum_1_train        87\n",
       "ph_dim_1_train                  675\n",
       "pca_dim_train                     1\n",
       "hidden_layer_sizes             2481\n",
       "learning_rate_init             2481\n",
       "n_estimators                    171\n",
       "early_stopping                 2481\n",
       "activation                     2481\n",
       "max_depth                       171\n",
       "batch_size                     2481\n",
       "min_samples_leaf                171\n",
       "max_iter                       2481\n",
       "dtype: int64"
      ]
     },
     "execution_count": 25,
     "metadata": {},
     "output_type": "execute_result"
    }
   ],
   "source": [
    "pd.set_option('display.max_rows', 500)\n",
    "pd.set_option('display.max_columns', 500)\n",
    "\n",
    "# MolProp2 leads to some nans\n",
    "nans = df.isna().sum()\n",
    "nans[nans > 0]"
   ]
  },
  {
   "cell_type": "markdown",
   "metadata": {},
   "source": [
    "Refine column names"
   ]
  },
  {
   "cell_type": "code",
   "execution_count": 26,
   "metadata": {},
   "outputs": [
    {
     "name": "stdout",
     "output_type": "stream",
     "text": [
      "Final shape:  (2652, 184)\n"
     ]
    }
   ],
   "source": [
    "print(\"Final shape: \", df.shape)\n",
    "df.to_csv(f\"{DIR}/results.csv\", index=False)"
   ]
  }
 ],
 "metadata": {
  "kernelspec": {
   "display_name": ".phd",
   "language": "python",
   "name": "python3"
  },
  "language_info": {
   "codemirror_mode": {
    "name": "ipython",
    "version": 3
   },
   "file_extension": ".py",
   "mimetype": "text/x-python",
   "name": "python",
   "nbconvert_exporter": "python",
   "pygments_lexer": "ipython3",
   "version": "3.11.1"
  }
 },
 "nbformat": 4,
 "nbformat_minor": 2
}
